{
 "cells": [
  {
   "cell_type": "markdown",
   "id": "e030dffa",
   "metadata": {},
   "source": [
    "\n",
    "------\n",
    "\n",
    "# Functions, Lists, Dictionaries\n",
    "\n",
    "\n",
    "### Table of Contents\n",
    "\n",
    "\n",
    "1 - [Functions](#section1)<br>\n",
    "\n",
    "&nbsp;&nbsp;&nbsp;&nbsp;&nbsp;&nbsp; 1.1 - [Built-in Functions](#subsection1)<br>\n",
    "\n",
    "&nbsp;&nbsp;&nbsp;&nbsp;&nbsp;&nbsp; 1.2 - [Defining Functions](#subsection2)<br>\n",
    "\n",
    "&nbsp;&nbsp;&nbsp;&nbsp;&nbsp;&nbsp; 1.3 - [Importing Libraries](#subsection3)<br>\n",
    "\n",
    "2 - [Lists](#section2)<br>\n",
    "\n",
    "&nbsp;&nbsp;&nbsp;&nbsp;&nbsp;&nbsp; 2.1 - [List Iteration and Slicing `[ : ]`](#subsection4)<br>\n",
    "\n",
    "&nbsp;&nbsp;&nbsp;&nbsp;&nbsp;&nbsp; 2.2 - [Adding Elements](#subsection5)<br>\n",
    "\n",
    "&nbsp;&nbsp;&nbsp;&nbsp;&nbsp;&nbsp; 2.3 - [Deleting Elements](#subsection6)<br>\n",
    "\n",
    "&nbsp;&nbsp;&nbsp;&nbsp;&nbsp;&nbsp; 2.4 - [Length of a list](#subsection7)<br>\n",
    "\n",
    "&nbsp;&nbsp;&nbsp;&nbsp;&nbsp;&nbsp; 2.5 - [Operations on a list](#subsection8)<br>\n",
    "\n",
    "3 - [Exit Ticket](#section4)<br> \n",
    "\n",
    "4 - [Dictionaries (Optional)](#section4)<br> "
   ]
  },
  {
   "cell_type": "code",
   "execution_count": null,
   "id": "1787f370",
   "metadata": {},
   "outputs": [],
   "source": [
    "# RUN THIS CELL;\n",
    "\n",
    "###DO NOT MODIFY###\n",
    "import numpy as np\n",
    "from matplotlib import pyplot as plt\n",
    "from jupyter_utils import *\n",
    "%matplotlib inline"
   ]
  },
  {
   "cell_type": "markdown",
   "id": "300c2995",
   "metadata": {},
   "source": [
    "---\n",
    "# Functions<a id='section1'></a>"
   ]
  },
  {
   "cell_type": "markdown",
   "id": "8c5a5486",
   "metadata": {},
   "source": [
    "### 1.1 Built-in Functions <a id='subsection1'></a>"
   ]
  },
  {
   "cell_type": "markdown",
   "id": "15530caa",
   "metadata": {},
   "source": [
    "A function is like a command. You specify inputs and it performs a specific task. They are useful when you are doing the same thing repeatedly, that way you don't have to write the same code lots of times. Python does not have a lot of built-in (aka available by default) functions and methods. But it does have some. We will go over a few useful functions and methods that will be good for you to know. \n",
    "\n",
    "If something is a function, it will appear in green color. "
   ]
  },
  {
   "cell_type": "code",
   "execution_count": null,
   "id": "b3238646",
   "metadata": {},
   "outputs": [],
   "source": [
    "# EXAMPLE \n",
    "\n",
    "max(2, 5, 9, 7)"
   ]
  },
  {
   "cell_type": "code",
   "execution_count": null,
   "id": "0cb876d3",
   "metadata": {},
   "outputs": [],
   "source": [
    "# EXAMPLE \n",
    "\n",
    "min(3, 7)"
   ]
  },
  {
   "cell_type": "code",
   "execution_count": null,
   "id": "0baa9755",
   "metadata": {},
   "outputs": [],
   "source": [
    "# EXAMPLE \n",
    "\n",
    "a = -4\n",
    "print(abs(a))"
   ]
  },
  {
   "cell_type": "markdown",
   "id": "59221df5",
   "metadata": {},
   "source": [
    "How will this function work with textual information (aka strings)?\n",
    "Pause for a moment to answer this question before you run this cell."
   ]
  },
  {
   "cell_type": "code",
   "execution_count": null,
   "id": "6cb32417",
   "metadata": {},
   "outputs": [],
   "source": [
    "# EXAMPLE \n",
    "\n",
    "max(\"dog\", \"Dog\")"
   ]
  },
  {
   "cell_type": "code",
   "execution_count": null,
   "id": "9de547c3",
   "metadata": {},
   "outputs": [],
   "source": [
    "# EXAMPLE\n",
    "\n",
    "max(\"DOG\",\"Dog\")"
   ]
  },
  {
   "cell_type": "markdown",
   "id": "1a024484",
   "metadata": {},
   "source": [
    "Another built-in function you will most likely use in your coding a lot, is  **len(   )**. It is used to learn about the length of different objects. "
   ]
  },
  {
   "cell_type": "markdown",
   "id": "c1008728",
   "metadata": {},
   "source": [
    "### <center>  * * * Good Coding Practice Moment * * * <center>\n",
    "#### Even the pros use Google \n",
    "\n",
    "If you can't remember how to use a function, you want to find a new function, or you just aren't sure how to code something, Google is a great place to start. Someone else has likely had the same question before and posted on a website. It may take some time to learn how to understand coding blogs and websites, but then you can find the answers you need, just like the rest of us, on Google. \n",
    "\n",
    "### <center> * * * * * * * * * * * * * * * * * * * * * * * * * * * * <center>"
   ]
  },
  {
   "cell_type": "code",
   "execution_count": null,
   "id": "716835fa",
   "metadata": {},
   "outputs": [],
   "source": [
    "# EXAMPLE\n",
    "\n",
    "len(\"dog\")"
   ]
  },
  {
   "cell_type": "markdown",
   "id": "79066e2b",
   "metadata": {},
   "source": [
    "before you run the next cell, what do you think this cell will output? type your prediction here\n",
    "\n",
    "...\n"
   ]
  },
  {
   "cell_type": "code",
   "execution_count": null,
   "id": "02f37331",
   "metadata": {},
   "outputs": [],
   "source": [
    "# EXERCISE\n",
    "\n",
    "len(\"dog \")"
   ]
  },
  {
   "cell_type": "markdown",
   "id": "2b98939b",
   "metadata": {},
   "source": [
    "In the example below, we will use a built-in method. There's no big difference between the two except for the syntax.\n",
    "\n",
    "Functions (not only the built-in ones) are usually used in the form of\n",
    "\n",
    "function(argument 1, argument n)\n",
    "\n",
    "<img src='images/function.png'>\n",
    "\n"
   ]
  },
  {
   "cell_type": "markdown",
   "id": "8dc48bbc",
   "metadata": {},
   "source": [
    "Unlike functions, methods are usually added at the end of the variable.\n",
    "\n",
    "**variable.method()**\n",
    "<img src ='images/method.png'>\n",
    "\n"
   ]
  },
  {
   "cell_type": "markdown",
   "id": "3a98e90b",
   "metadata": {},
   "source": [
    "### <center>  * * * Good Coding Practice Moment * * * <center>\n",
    "#### Google really is super helpful. \n",
    "\n",
    "If you can't remember if something is a function or a method, you can always google it. We've all done it before. You can also try both ways and see which one works. \n",
    "\n",
    "### <center> * * * * * * * * * * * * * * * * * * * * * * * * * * * * <center>"
   ]
  },
  {
   "cell_type": "code",
   "execution_count": null,
   "id": "377be661",
   "metadata": {},
   "outputs": [],
   "source": [
    "# EXAMPLE \n",
    "\n",
    "hello = \"Hello World\"\n",
    "\n",
    "print(hello.upper())\n",
    "print(hello)"
   ]
  },
  {
   "cell_type": "markdown",
   "id": "c3a2a56a",
   "metadata": {},
   "source": [
    "Have you noticed that the variable **hello** didn't change? Can you think why is that? "
   ]
  },
  {
   "cell_type": "code",
   "execution_count": null,
   "id": "5da4eec9",
   "metadata": {},
   "outputs": [],
   "source": [
    "# EXAMPLE \n",
    "\n",
    "hello = \"Hello World\"\n",
    "print(hello.lower())\n",
    "print(hello)"
   ]
  },
  {
   "cell_type": "markdown",
   "id": "48db735b",
   "metadata": {},
   "source": [
    "In the cell below, create a variable **phrase** which tells us what school you go to. Then change all the letters to upper-cased letters."
   ]
  },
  {
   "cell_type": "code",
   "execution_count": null,
   "id": "05cddf66",
   "metadata": {},
   "outputs": [],
   "source": [
    "# EXERCISE \n",
    "\n",
    "\n",
    "phrase = \"I go to ... \"\n",
    "phrase = ...\n",
    "\n",
    "print(phrase)"
   ]
  },
  {
   "cell_type": "markdown",
   "id": "b680f1a4",
   "metadata": {},
   "source": [
    "### <center>  * * * Good Coding Practice Moment * * * <center>\n",
    "#### There's probably a function for that. \n",
    "\n",
    "There are a lot of functions out there. Whether you are trying to figure out how to sort a bunch of numbers, generate a random number, or find a specific character in a long string, someone else has probably already written a function that does that. Later we will go through how to access whole libraries of functions so you can use them. \n",
    "\n",
    "### <center> * * * * * * * * * * * * * * * * * * * * * * * * * * * * <center>"
   ]
  },
  {
   "cell_type": "markdown",
   "id": "ea96a022",
   "metadata": {},
   "source": [
    "### 1.2 Defining Functions <a id='subsection2'></a>"
   ]
  },
  {
   "cell_type": "markdown",
   "id": "2be1ba63",
   "metadata": {},
   "source": [
    "A function is a block code that you can reuse to perform a specific action. In the next cell, we will be defining a simple one-line function that takes one argument."
   ]
  },
  {
   "cell_type": "code",
   "execution_count": null,
   "id": "3471fa2b",
   "metadata": {},
   "outputs": [],
   "source": [
    "# EXAMPLE\n",
    "\n",
    "def degrees_FtoK(F):\n",
    "    # This function converts temperatures measured in \n",
    "    #degrees Fahrenheit to Kelvin. \n",
    "    #Inputs: \n",
    "        # F - temperature measured in degrees Fahrenheit\n",
    "    #Outputs:\n",
    "        # K - temperature in Kelvin.\n",
    "        \n",
    "    K =(F +459.67)*5/9\n",
    "    return K\n",
    "\n"
   ]
  },
  {
   "cell_type": "markdown",
   "id": "23bd7289",
   "metadata": {},
   "source": [
    "Here's how to use the function to convert 81&#8457; to Kelvin"
   ]
  },
  {
   "cell_type": "code",
   "execution_count": null,
   "id": "b2b1435f",
   "metadata": {},
   "outputs": [],
   "source": [
    "#EXAMPLE\n",
    "\n",
    "temp = degrees_FtoK(81)\n",
    "\n",
    "print(temp)"
   ]
  },
  {
   "cell_type": "markdown",
   "id": "3b1951ae",
   "metadata": {},
   "source": [
    "Use the `degrees_FtoK` function to find convert the following temperatures from Fahrenheit to Kelvin. -459.67&#8457;, 32&#8457;, and 98.6&#8457;"
   ]
  },
  {
   "cell_type": "code",
   "execution_count": null,
   "id": "09f594f8",
   "metadata": {},
   "outputs": [],
   "source": [
    "# Exercise\n",
    "temp1 = ...\n",
    "temp2 = ...\n",
    "temp3 = ...\n",
    "\n",
    "print(temp1)\n",
    "print(temp2)\n",
    "print(temp3)"
   ]
  },
  {
   "cell_type": "markdown",
   "id": "249cecd3",
   "metadata": {},
   "source": [
    "You can have multiple inputs and multiple outputs."
   ]
  },
  {
   "cell_type": "code",
   "execution_count": null,
   "id": "cf47ae10",
   "metadata": {},
   "outputs": [],
   "source": [
    "# EXAMPLE\n",
    "def area(width, height):\n",
    "    area = width*height\n",
    "    return area\n",
    "\n",
    "area_val = area(2,4)\n",
    "print('Area is', area_val)"
   ]
  },
  {
   "cell_type": "markdown",
   "id": "629b4106",
   "metadata": {},
   "source": [
    "Functions can perform multiple calculations and use more than one argument, they can even return more than one thing, nothing at all. They can incorporate lots of things including other functions inside of your function - aka nested functions (we won't be going over nested functions in this workshop, but feel free to look them up).\n",
    "\n",
    "#### <center> Discussion Question<center>\n",
    "    When would I want to use a function? "
   ]
  },
  {
   "attachments": {
    "explain_functions.png": {
     "image/png": "[encoded data removed]"
    }
   },
   "cell_type": "markdown",
   "id": "4c8377f7",
   "metadata": {},
   "source": [
    "### <center>  * * * Good Coding Practice Moment * * * <center>\n",
    "#### How to define a function.\n",
    "    \n",
    "![explain_functions.png](attachment:explain_functions.png)\n",
    "    \n",
    "1. `def` is how you tell the computer you want to define a function.\n",
    "2. The title of the function - This is how you will call the function.\n",
    "3. The inputs to your function (if you have more than one, separate with commas)\n",
    "4. If you don't put a colon here, it will cause an error\n",
    "5. It is good coding practice to include a comment that describes what the function is trying to do, I like to include a list of inputs and outputs as well in case I forget what the variables mean. \n",
    "6. Notice that everything inside the function is indented. Anything that isn't indented won't be included in the function. Your editor usually does the indent for you automatically. \n",
    "7. If you want to output a value, put return and then the names of the variables you wish to return (separated by commas if there are more than one.\n",
    "\n",
    "### <center> * * * * * * * * * * * * * * * * * * * * * * * * * * * * <center>"
   ]
  },
  {
   "cell_type": "code",
   "execution_count": null,
   "id": "cc88f09c",
   "metadata": {},
   "outputs": [],
   "source": [
    "# EXAMPLE\n",
    "# Create a function that takes in a circle's radius and calculates its area\n",
    "\n",
    "def quadraticFormula(a, b, c):\n",
    "    # finds the x-intersepts for the parabola a*x**2 + b*x + c \n",
    "    # Inputs: \n",
    "        # a, b, c - the coefficients for the parabola as listed above.\n",
    "    # Outputs: \n",
    "        # x1, x2 - the x-intercepts for the parabola above\n",
    "    x1 = (-b - (b**2-4*a*c)**(1/2))/(2*a)\n",
    "    x2 = (-b + (b**2-4*a*c)**(1/2))/(2*a)\n",
    "    return x1, x2\n",
    "\n",
    "\n"
   ]
  },
  {
   "cell_type": "markdown",
   "id": "89e18cf5",
   "metadata": {},
   "source": [
    "Let's use `quadraticFormula` function to find the roots of $x^2 + x -6$"
   ]
  },
  {
   "cell_type": "code",
   "execution_count": null,
   "id": "990ccfc9",
   "metadata": {},
   "outputs": [],
   "source": [
    "x1, x2 = quadraticFormula (1, 1, -6)\n",
    "print('x1 =', x1)\n",
    "print('x2 =', x2)"
   ]
  },
  {
   "cell_type": "markdown",
   "id": "970d7ff7",
   "metadata": {},
   "source": [
    "In the cell below use the `quadraticFormula` function to find the roots of $2x^2 - 4x - 6$ "
   ]
  },
  {
   "cell_type": "code",
   "execution_count": null,
   "id": "3a0ceca9",
   "metadata": {},
   "outputs": [],
   "source": [
    "# EXERCISE\n",
    "\n",
    "x1, x2 = quadraticFormula(...)\n",
    "\n",
    "print('x1 =', x1)\n",
    "print('x2 =', x2)"
   ]
  },
  {
   "cell_type": "markdown",
   "id": "7c96bdac",
   "metadata": {},
   "source": [
    "In the cell below use the quadraticFormula function to find the roots of $-5x^2 + 8x + 4$ "
   ]
  },
  {
   "cell_type": "code",
   "execution_count": null,
   "id": "641c71a0",
   "metadata": {},
   "outputs": [],
   "source": [
    "# EXERCISE\n",
    "\n",
    "...\n",
    "\n",
    "print('x1 =', x1)\n",
    "print('x2 =', x2)"
   ]
  },
  {
   "cell_type": "markdown",
   "id": "38c8d8cd",
   "metadata": {},
   "source": [
    "It is also possible to define a method, but we won't be going over that this summer. If you are interested in learning more, try reading about object oriented programming and python classes."
   ]
  },
  {
   "cell_type": "markdown",
   "id": "66addf63",
   "metadata": {},
   "source": [
    "### <center> Back to our game <center>\n",
    "    \n",
    "Your player is currently located at pos_x = 12, pos_y = 9 and facing this direction: dir_x = 1, dir_y = 0. Let's make some functions to move your player around. \n",
    "\n",
    "<img src = 'images/before_turn.png'>\n",
    "    \n",
    "The player needs to turn right next. We have provided a function called `turnRight` to perform this operation. \n",
    "The cell below shows how to use the `turnRight` command. "
   ]
  },
  {
   "cell_type": "code",
   "execution_count": null,
   "id": "51aeaa12",
   "metadata": {},
   "outputs": [],
   "source": [
    "#define the starting point\n",
    "pos_x = 8\n",
    "pos_y = 3\n",
    "direc_x = 1\n",
    "direc_y = 0"
   ]
  },
  {
   "cell_type": "code",
   "execution_count": null,
   "id": "3f2228bd",
   "metadata": {},
   "outputs": [],
   "source": [
    "#EXAMPLE\n",
    "direc_x, direc_y = turnRight(direc_x, direc_y)\n",
    "\n",
    "# Do not modify the code below\n",
    "show_player(path,[pos_y,pos_x], direc=[direc_y, direc_x]) #Display current position"
   ]
  },
  {
   "cell_type": "markdown",
   "id": "1854e1a1",
   "metadata": {},
   "source": [
    "In the following cell, make your player turn Right two more times. If you do it correctly, it should look like \n",
    "\n",
    "<img src='images/after_turns.png'>"
   ]
  },
  {
   "cell_type": "code",
   "execution_count": null,
   "id": "9cedd73a",
   "metadata": {},
   "outputs": [],
   "source": [
    "#EXERCISE \n",
    "# turn right once more \n",
    "direc_x1, direc_y1 = ...\n",
    "\n",
    "# and do it again\n",
    "direc_x2, direc_y2 = ...\n",
    "\n",
    "\n",
    "show_player(path,[pos_y,pos_x], direc=[direc_y2, direc_x2]) #Display current position"
   ]
  },
  {
   "cell_type": "markdown",
   "id": "f32af689",
   "metadata": {},
   "source": [
    "In the previous notebook we learned that we could move forward n steps using the following formulas \n",
    "\n",
    "`pos_x = pos_x + n*direc_x\n",
    "pos_x+=n*direc_x\n",
    "pos_y = pos_y + n*direc_y`\n",
    "\n",
    "Use the cell below to use those formulas to make a function that moves the player forward by n steps."
   ]
  },
  {
   "cell_type": "code",
   "execution_count": null,
   "id": "1c2e3f61",
   "metadata": {},
   "outputs": [],
   "source": [
    "def steps(n, pos_x, pos_y, direc_x, direc_y):\n",
    "    #move the player forward from n steps in direc_x and direc_y starting from pos_x and pos_y.\n",
    "    #Inputs:\n",
    "        # n - the number of steps forward\n",
    "        # pos_x, pos_y - the starting position\n",
    "        # direc_x, direc_y - the direction of motion. \n",
    "    \n",
    "    pos_x_new = ...\n",
    "    pos_y_new = ...\n",
    "    \n",
    "    return pos_x_new, pos_y_new\n"
   ]
  },
  {
   "cell_type": "markdown",
   "id": "196b012a",
   "metadata": {},
   "source": [
    "Now let's test your function, if you did it correctly, out you should end up with your player in this position.\n",
    "\n",
    "<img src = 'images/after_steps.png'>"
   ]
  },
  {
   "cell_type": "code",
   "execution_count": null,
   "id": "123d5bec",
   "metadata": {},
   "outputs": [],
   "source": [
    "pos_x = 4\n",
    "pos_y = 2\n",
    "direc_x = 1\n",
    "direc_y = 0\n",
    "\n",
    "pos_x, pos_y = steps(1, pos_x, pos_y, direc_x, direc_y)\n",
    "\n",
    "# Do not modify the code below\n",
    "show_player(path,[pos_y,pos_x], direc=[direc_y, direc_x], show_direc=True) #Display current position"
   ]
  },
  {
   "cell_type": "markdown",
   "id": "b48df25f",
   "metadata": {},
   "source": [
    "Now the player needs to turn left. As you know, turning left is the same as turning right three times. Instead of using the `turnRight` function three times, write a new `turnLeft` function (You can do it in just one line, or on three different lines, it doesn't matter.)"
   ]
  },
  {
   "cell_type": "code",
   "execution_count": null,
   "id": "7b66f41e",
   "metadata": {},
   "outputs": [],
   "source": [
    "def turnLeft(direc_x, direc_y):\n",
    "    #move the player forward from n steps in direc_x and direc_y starting from pos_x and pos_y.\n",
    "    #Inputs:\n",
    "        # direc_x, direc_y - the direction of motion.\n",
    "        \n",
    "    direc_x1, direc_y1 = ...\n",
    "    ...\n",
    "    ...\n",
    "    \n",
    "    return direc_x3, direc_y3\n",
    "\n",
    "\n",
    "direc_x, direc_y = turnLeft(direc_x, direc_y)\n",
    "\n",
    "# Do not modify the code below\n",
    "show_player(path,[pos_y,pos_x], direc=[direc_y, direc_x], show_direc=True) #Display current position\n"
   ]
  },
  {
   "cell_type": "markdown",
   "id": "1eae20ff",
   "metadata": {},
   "source": [
    "Now let's say that your player is currently located at pos_x = 12, pos_y = 9 and facing this direction: dir_x = 1, dir_y = 0. Let's make some functions to move your player around. \n",
    "\n",
    "<img src='images/ready2jump.png'>\n",
    "\n",
    "Create a function that takes in the players position variables and their direction variables, and returns the new pos_x and pos_y variables after a jump over the blank space."
   ]
  },
  {
   "cell_type": "code",
   "execution_count": null,
   "id": "e2294b4f",
   "metadata": {},
   "outputs": [],
   "source": [
    "# EXERCISE\n",
    "\n",
    "def jump(...):\n",
    "    # This function moves the player from pos_x, and pos_x across \n",
    "    # a blank space in the direction specified by direc_x and direc_y\n",
    "    # Inputs\n",
    "        # pos_x - the starting x position of the player\n",
    "        # pos_y - the starting y position of the player\n",
    "        # direc_x - the x component direction of the jump\n",
    "        # direc_y - the y component direction of the jump\n",
    "        \n",
    "    ...\n",
    "    ...\n",
    "    \n",
    "    return ...\n",
    "\n",
    "\n",
    "pos_x = 12\n",
    "pos_y = 9\n",
    "direc_x = 1\n",
    "direc_y = 0\n",
    "\n",
    "pos_x, pos_y = jump(pos_x,pos_y,direc_x,direc_y)\n",
    "\n",
    "\n",
    "# Do not modify the code below\n",
    "show_player(path,[pos_y,pos_x], direc=[direc_y, direc_x], show_direc=True) #Display current position"
   ]
  },
  {
   "cell_type": "markdown",
   "id": "2daef6e9",
   "metadata": {},
   "source": [
    "Be careful when defining variables within functions. They are **local** variables and can only be accessible within the function - if you try to use them outside of the function, you will get an error. **Global** variables are those that are defined outside of the function. They can be used throughout the program.\n",
    "\n",
    "In the example below, what variable is global? Local?"
   ]
  },
  {
   "cell_type": "code",
   "execution_count": null,
   "id": "acedf95d",
   "metadata": {},
   "outputs": [],
   "source": [
    "# EXAMPLE\n",
    "\n",
    "g = 9.8 #acceleration due to gravity\n",
    "\n",
    "def findWeight(mass):\n",
    "    fg = mass*g\n",
    "    return fg\n",
    "    \n",
    "weight = findWeight(10)\n",
    "weight\n"
   ]
  },
  {
   "cell_type": "markdown",
   "id": "531cadb3",
   "metadata": {},
   "source": [
    "### 1.3 Importing Libraries <a id='subsection3'></a>"
   ]
  },
  {
   "cell_type": "markdown",
   "id": "6ba8646a",
   "metadata": {},
   "source": [
    "In order to do more with Python, we have to import libraries. Libraries contain functions and variables that you can use in your code.\n",
    "\n",
    "For example, using the tools you have now, how would you get pi using Python? Recite it from memory? That is not very convient."
   ]
  },
  {
   "cell_type": "code",
   "execution_count": null,
   "id": "a7f33de7",
   "metadata": {},
   "outputs": [],
   "source": [
    "# EXAMPLE \n",
    "\n",
    "import math\n",
    "\n",
    "math.pi"
   ]
  },
  {
   "cell_type": "code",
   "execution_count": null,
   "id": "06f9987f",
   "metadata": {},
   "outputs": [],
   "source": [
    "#EXERCISE\n",
    "#Write a function that calculates a circle's area and uses math.pi\n",
    "\n",
    "def circleArea(r):\n",
    "    ...\n",
    "    return ...\n",
    "\n",
    "b = circleArea(2)\n",
    "b"
   ]
  },
  {
   "cell_type": "markdown",
   "id": "2d128429",
   "metadata": {},
   "source": [
    "Do you notice anything different between this output using math.pi, and if we use an appoximation of pi like below?"
   ]
  },
  {
   "cell_type": "code",
   "execution_count": null,
   "id": "dfc991ad",
   "metadata": {},
   "outputs": [],
   "source": [
    "c = 3.14*2**2\n",
    "c"
   ]
  },
  {
   "cell_type": "markdown",
   "id": "6346aad9",
   "metadata": {},
   "source": [
    "You can look at interesting functions/variables that you have when you import the [math library](https://docs.python.org/3/library/math.html#)!"
   ]
  },
  {
   "cell_type": "markdown",
   "id": "0d4b1b16",
   "metadata": {},
   "source": [
    "---\n",
    "# Lists<a id='section2'></a>"
   ]
  },
  {
   "cell_type": "markdown",
   "id": "e5ffb0b8",
   "metadata": {},
   "source": [
    "List is a data structure that allows you to save multiple objects.\n",
    "\n",
    "\n",
    "* NOTE: DON'T EVER CALL YOUR LIST \"list\". This is a reserved name for a function in python. BUT, you can use this function to create new lists! "
   ]
  },
  {
   "cell_type": "markdown",
   "id": "2559cb75",
   "metadata": {},
   "source": [
    "In comparison with strings, lists can contain different data types/objects. Note: strings can only store textual data."
   ]
  },
  {
   "cell_type": "code",
   "execution_count": null,
   "id": "61eeea21",
   "metadata": {},
   "outputs": [],
   "source": [
    "# EXAMPLE\n",
    "\n",
    "new_lst = [2, \"name\", 3, \"berkeley\"]\n",
    "new_lst"
   ]
  },
  {
   "cell_type": "code",
   "execution_count": null,
   "id": "3152ee3e",
   "metadata": {},
   "outputs": [],
   "source": [
    "# Instead of having two variables for pos_x and pos_y, \n",
    "# we can have one variable for position that is a list\n",
    "position = [pos_y, pos_x]"
   ]
  },
  {
   "cell_type": "code",
   "execution_count": null,
   "id": "dbd8d502",
   "metadata": {},
   "outputs": [],
   "source": [
    "# here's how you can create an empty list\n",
    "\n",
    "empty_lst = []\n",
    "empty_lst"
   ]
  },
  {
   "cell_type": "markdown",
   "id": "55bf26b0",
   "metadata": {},
   "source": [
    "why would you want to have an empty list? "
   ]
  },
  {
   "cell_type": "markdown",
   "id": "9d029661",
   "metadata": {},
   "source": [
    "Every value that is stored in the list has its address or known as index position. By index position, we can get any particular value from the list. All Index value starts from 0. Python reads the list from left to right in default. Square brackets surround every list. If we want to call a value stored in a specific index position, we have to specify the index position with the variable name."
   ]
  },
  {
   "cell_type": "code",
   "execution_count": null,
   "id": "77b6fb3c",
   "metadata": {},
   "outputs": [],
   "source": [
    "# EXAMPLE\n",
    "\n",
    "teamColors = [\"Purple\", \"Blue\", \"Green\", \"Yellow\"]\n",
    "teamColors"
   ]
  },
  {
   "cell_type": "markdown",
   "id": "7fe7c936",
   "metadata": {},
   "source": [
    "If we want to reassign any value of the list, then we can simply assign a new value to the list variable with index position."
   ]
  },
  {
   "cell_type": "code",
   "execution_count": null,
   "id": "d3d1ef39",
   "metadata": {},
   "outputs": [],
   "source": [
    "# EXAMPLE\n",
    "teamColors [0] = \"Red\"\n",
    "teamColors"
   ]
  },
  {
   "cell_type": "markdown",
   "id": "6a769c69",
   "metadata": {},
   "source": [
    "Make sure you don't use the built-in functions as names for your variables. It is easy to tell (in Jupyter Notebooks) whether something is a function/method. When you enter it, it be in green in your code cell."
   ]
  },
  {
   "cell_type": "code",
   "execution_count": null,
   "id": "39c992e3",
   "metadata": {},
   "outputs": [],
   "source": [
    "list"
   ]
  },
  {
   "cell_type": "markdown",
   "id": "f0c39875",
   "metadata": {},
   "source": [
    "Let's see how we can use this function on a string. Save your name in the variable \"name\" first."
   ]
  },
  {
   "cell_type": "code",
   "execution_count": null,
   "id": "0a428afe",
   "metadata": {},
   "outputs": [],
   "source": [
    "# EXAMPLE\n",
    "\n",
    "name = \"My Name\"\n",
    "\n",
    "list(name)"
   ]
  },
  {
   "cell_type": "markdown",
   "id": "2344eefe",
   "metadata": {},
   "source": [
    "Another way we can use lists, is to store data that belongs together, For example instead of having a variable `pos_x` and another `pos_y`. We can save them in a single list `[pos_y, pos_x]`"
   ]
  },
  {
   "cell_type": "markdown",
   "id": "70b97fce",
   "metadata": {},
   "source": [
    "### 2.1 List Iteration and Slicing `[ : ]`<a id='subsection4'></a>"
   ]
  },
  {
   "cell_type": "code",
   "execution_count": null,
   "id": "2cdb1fec",
   "metadata": {},
   "outputs": [],
   "source": [
    "# Let's make a list of all of the BLDAP apprentices. \n",
    "\n",
    "apprentices = ['Aiden', 'Amara', 'Elijah', 'Fatima', 'Hana', 'Juian', 'Kai',' Leila',\n",
    "               'Liam', 'Luca', 'Mateo', 'Mai', 'Micah', 'Nia', 'Noah', 'Peter',\n",
    "               'Priya', 'Sara', 'Sophia','Theo','Yara','Zara']\n",
    "print(apprentices)"
   ]
  },
  {
   "cell_type": "markdown",
   "id": "e56fe901",
   "metadata": {},
   "source": [
    "To iterate through the list, you can use square brackets with an index of an object you are interested in. Like so:"
   ]
  },
  {
   "cell_type": "code",
   "execution_count": null,
   "id": "61db5b36",
   "metadata": {},
   "outputs": [],
   "source": [
    "# remember that Python, like many programming languages, starts counting from 0.\n",
    "\n",
    "apprentices[3]"
   ]
  },
  {
   "cell_type": "markdown",
   "id": "483ee228",
   "metadata": {},
   "source": [
    "Notice also that each component of the list separated by a comma is a single object. So the list inside of the list will be a single object. If you want to iterate through a list inside of the list, you will need to use the square brackets twice. Like we did here:"
   ]
  },
  {
   "cell_type": "code",
   "execution_count": null,
   "id": "bfac9c09",
   "metadata": {},
   "outputs": [],
   "source": [
    "# EXAMPLE\n",
    "\n",
    "apprentices[3][0]"
   ]
  },
  {
   "cell_type": "markdown",
   "id": "01d1f0e9",
   "metadata": {},
   "source": [
    "You can also replace the objects in the list for example, if we want to replace replace people's full names with their nicknames:"
   ]
  },
  {
   "cell_type": "code",
   "execution_count": null,
   "id": "9a544b02",
   "metadata": {},
   "outputs": [],
   "source": [
    "# EXAMPLE\n",
    "\n",
    "apprentices[0] = \"AJ\"\n",
    "\n",
    "apprentices"
   ]
  },
  {
   "cell_type": "code",
   "execution_count": null,
   "id": "22c759e2",
   "metadata": {},
   "outputs": [],
   "source": [
    "# EXAMPLE\n",
    "\n",
    "apprentices[3] = \"Eli\"\n",
    "\n",
    "apprentices"
   ]
  },
  {
   "cell_type": "code",
   "execution_count": null,
   "id": "5aaceee4",
   "metadata": {},
   "outputs": [],
   "source": [
    "# EXERCISE\n",
    "# Replace \"Sara\" with her nickname \"Sally\"\n",
    "apprentices[...] = ...\n",
    "apprentices"
   ]
  },
  {
   "cell_type": "code",
   "execution_count": null,
   "id": "5159814d",
   "metadata": {},
   "outputs": [],
   "source": [
    "# EXERCISE\n",
    "# Replace \"Peter\" with his nickname \"Pete\"\n",
    "...\n",
    "apprentices"
   ]
  },
  {
   "cell_type": "markdown",
   "id": "1afd55f1",
   "metadata": {},
   "source": [
    "To get more than one element from you list, use the syntax: `list[start:stop]`\n",
    "\n",
    "Remember that you will get elements up to index stop-1\n",
    "\n",
    "\n",
    "To demonstrate this it is helpful to use a list of numbers."
   ]
  },
  {
   "cell_type": "code",
   "execution_count": null,
   "id": "576d394f",
   "metadata": {},
   "outputs": [],
   "source": [
    "# EXAMPLE\n",
    "\n",
    "myList = [0,1,2,3,4,5,6,7,8,9,10]\n",
    "print(myList)\n",
    "\n",
    "myList[0:2]"
   ]
  },
  {
   "cell_type": "markdown",
   "id": "abba37da",
   "metadata": {},
   "source": [
    "It works the same with a list a strings. "
   ]
  },
  {
   "cell_type": "code",
   "execution_count": null,
   "id": "fc5744d4",
   "metadata": {},
   "outputs": [],
   "source": [
    "# EXAMPLE\n",
    "\n",
    "apprentices[0:2]"
   ]
  },
  {
   "cell_type": "markdown",
   "id": "92191394",
   "metadata": {},
   "source": [
    "You can also slice with steps - list[start:stop:step]\n",
    "\n",
    "Again, you will get elements up to index stop-1"
   ]
  },
  {
   "cell_type": "code",
   "execution_count": null,
   "id": "f4dbbbe8",
   "metadata": {},
   "outputs": [],
   "source": [
    "# EXAMPLE\n",
    "\n",
    "myList[0:8:2]"
   ]
  },
  {
   "cell_type": "code",
   "execution_count": null,
   "id": "8da33d26",
   "metadata": {},
   "outputs": [],
   "source": [
    "# EXAMPLE\n",
    "\n",
    "myList[0:7:2]"
   ]
  },
  {
   "cell_type": "markdown",
   "id": "14f3b997",
   "metadata": {},
   "source": [
    "Why do the two examples above produce produce the same result? Enter your thoughts here in this cell. \n",
    "\n",
    "\n",
    "...\n",
    "\n",
    "Think about what you expect the following example to produce before you run the next cell. "
   ]
  },
  {
   "cell_type": "code",
   "execution_count": null,
   "id": "c5100a70",
   "metadata": {},
   "outputs": [],
   "source": [
    "# EXAMPLE\n",
    "\n",
    "myList[2:11:4]"
   ]
  },
  {
   "cell_type": "markdown",
   "id": "8ccc31a2",
   "metadata": {},
   "source": [
    "Before you run the next cell, predict it's result and write it here.\n",
    "\n",
    "..."
   ]
  },
  {
   "cell_type": "code",
   "execution_count": null,
   "id": "14d6e19f",
   "metadata": {},
   "outputs": [],
   "source": [
    "# EXAMPLE\n",
    "apprentices[3:10:3]"
   ]
  },
  {
   "cell_type": "code",
   "execution_count": null,
   "id": "b86e8904",
   "metadata": {},
   "outputs": [],
   "source": [
    "# EXERCISE\n",
    "# Use slicing to output all the even values in myList\n",
    "\n",
    "myList[...]"
   ]
  },
  {
   "cell_type": "code",
   "execution_count": null,
   "id": "15843b04",
   "metadata": {},
   "outputs": [],
   "source": [
    "# EXERCISE\n",
    "# Use slicing to output all the odd values in myList\n",
    "\n",
    "myList[...]"
   ]
  },
  {
   "cell_type": "code",
   "execution_count": null,
   "id": "14096bca",
   "metadata": {},
   "outputs": [],
   "source": [
    "# EXERCISE\n",
    "# Use slicing to output the following values: [2, 5, 8]\n",
    "\n",
    "myList[...]"
   ]
  },
  {
   "cell_type": "code",
   "execution_count": null,
   "id": "eeaeb28e",
   "metadata": {},
   "outputs": [],
   "source": [
    "# EXERCISE\n",
    "# Use slicing to output the following values: [2, 5, 8]\n",
    "\n",
    "myList[...]"
   ]
  },
  {
   "cell_type": "code",
   "execution_count": null,
   "id": "59b860ab",
   "metadata": {},
   "outputs": [],
   "source": [
    "# EXERCISE\n",
    "# Use slicing to output the following values: [1, 5, 9]\n",
    "\n",
    "myList[...]"
   ]
  },
  {
   "cell_type": "code",
   "execution_count": null,
   "id": "00246435",
   "metadata": {},
   "outputs": [],
   "source": [
    "# EXERCISE\n",
    "# Use slicing to output only the Aprentices who's names start with E. \n",
    "\n",
    "apprentices[...]"
   ]
  },
  {
   "cell_type": "markdown",
   "id": "827cfbe8",
   "metadata": {},
   "source": [
    "**Challenge:**\n",
    "\n",
    "Use slicing to divide everyone into 4 teams, as if they had been counted off: The first person in the first team, the second person in the second team, and so forth.\n"
   ]
  },
  {
   "cell_type": "code",
   "execution_count": null,
   "id": "fff246a6",
   "metadata": {},
   "outputs": [],
   "source": [
    "#Challenge Exercise\n",
    "\n",
    "team1 = ...\n",
    "team2 = ...\n",
    "team3 = ...\n",
    "team4 = ...\n",
    "\n",
    "print(\"Team 1:\", team1)\n",
    "print(\"Team 2:\", team2)\n",
    "print(\"Team 3:\", team3)\n",
    "print(\"Team 4:\", team4)"
   ]
  },
  {
   "cell_type": "markdown",
   "id": "177ec22d",
   "metadata": {},
   "source": [
    "### 2.2 Adding Elements<a id='subsection5'></a>"
   ]
  },
  {
   "cell_type": "markdown",
   "id": "22f10292",
   "metadata": {},
   "source": [
    "To add elements to a list, we can use a few functions. The ones we will show you today are built-in functions **insert** and **append**.\n",
    "Append function is used to add value to the existing list. Just use the append keyword and add the name. The new value will be added at the end of the list."
   ]
  },
  {
   "cell_type": "code",
   "execution_count": null,
   "id": "b75028b3",
   "metadata": {},
   "outputs": [],
   "source": [
    "# EXAMPLE\n",
    "\n",
    "# to add an element to the end of the list, we can use \"append\", \n",
    "# for example, we can add our new student, Judith\n",
    "\n",
    "apprentices.append(\"Judith\")\n",
    "apprentices"
   ]
  },
  {
   "cell_type": "markdown",
   "id": "de394594",
   "metadata": {},
   "source": [
    "We use **insert** function to insert the value into the list, but we can insert value at a specific index position using this function. The element that exists, in particular, will shift to the next index, which means all the elements after that index will increment by 1.\n",
    "Be careful when using insert function, you actually need to specify the position at which you are inserting an element.\n",
    "\n",
    "For example, we can add Noemi to our class roster. She should be in spot 13 (in alphabetical order)"
   ]
  },
  {
   "cell_type": "code",
   "execution_count": null,
   "id": "6da9a426",
   "metadata": {},
   "outputs": [],
   "source": [
    "# EXAMPLE\n",
    "\n",
    "apprentices.insert(5, \"Judith\")\n",
    "apprentices"
   ]
  },
  {
   "cell_type": "markdown",
   "id": "0991f1b4",
   "metadata": {},
   "source": [
    "In the cell below, add the imaginary student, Casper to Spot 4. "
   ]
  },
  {
   "cell_type": "code",
   "execution_count": null,
   "id": "2c6dc634",
   "metadata": {},
   "outputs": [],
   "source": [
    "# EXERCISE\n",
    "apprentices.insert(2,'Casper')\n",
    "apprentices"
   ]
  },
  {
   "cell_type": "markdown",
   "id": "c53aa226",
   "metadata": {},
   "source": [
    "Methods **insert** and **append** are not the only ways to add elements to a list. The most commonly used way to add elements to lists is using **+=** signs. The way you can think about it is **+** adds an element and **=** reassigns the variable."
   ]
  },
  {
   "cell_type": "code",
   "execution_count": null,
   "id": "ff2307fa",
   "metadata": {},
   "outputs": [],
   "source": [
    "# EXAMPLE\n",
    "\n",
    "veg = [\"zucchini\", \"cucumber\"]\n",
    "\n",
    "veg+= [\"potato\"]\n",
    "veg"
   ]
  },
  {
   "cell_type": "markdown",
   "id": "52e1f352",
   "metadata": {},
   "source": [
    "### <center>  * * * Good Coding Practice Moment * * * <center>\n",
    "#### What is += ?\n",
    "\n",
    "When you want to write an equation that modifies a variable but doesn't change it's name you can combine operators as follows\n",
    "    \n",
    "          a = a+2          is the same as             a += 2\n",
    "          b = b-2          is the same as             b -= 3\n",
    "          c = c*4          is the same as             c *= 4\n",
    "          d = d/5          is the same as             d /= 5\n",
    "    \n",
    "\n",
    "### <center> * * * * * * * * * * * * * * * * * * * * * * * * * * * * <center>"
   ]
  },
  {
   "cell_type": "markdown",
   "id": "fd2f6b42",
   "metadata": {},
   "source": [
    "The important thing to remember is that **+** can only work with elements of the same type. If you want to add somthing to a list, the element must be in the form of a list as well. Let's see what would happen if we will try to add a non-list element to a list."
   ]
  },
  {
   "cell_type": "code",
   "execution_count": null,
   "id": "0845f856",
   "metadata": {},
   "outputs": [],
   "source": [
    "veg += \"bell pepper\"\n",
    "veg"
   ]
  },
  {
   "cell_type": "markdown",
   "id": "7d0a3f7a",
   "metadata": {},
   "source": [
    "Now practice adding your own vegetable of choice to the list **veg**. \n",
    "\n",
    "**Note:** Since **veg** is in the form of a list, the element you add to it should also be in a form of a list.\n",
    "\n",
    "The same thing applies to the list of `apprentices`. Add SpongeBob to the list"
   ]
  },
  {
   "cell_type": "code",
   "execution_count": null,
   "id": "6045b6fa",
   "metadata": {},
   "outputs": [],
   "source": [
    "# EXERCISE\n",
    "\n",
    "\n",
    "apprentices += ['SpongeBob',]\n",
    "apprentices"
   ]
  },
  {
   "cell_type": "markdown",
   "id": "574e748e",
   "metadata": {},
   "source": [
    "### 2.3 Deleting Elements<a id='subsection6'></a>"
   ]
  },
  {
   "cell_type": "markdown",
   "id": "38d6b4d5",
   "metadata": {},
   "source": [
    "Python has three built-in functions and methods for deleting elements from a list."
   ]
  },
  {
   "cell_type": "code",
   "execution_count": null,
   "id": "b862750d",
   "metadata": {},
   "outputs": [],
   "source": [
    "random_list = ['Zoom', 1, 7, 9, \"Python\", \"Berkeley\",\"Python\"]"
   ]
  },
  {
   "cell_type": "markdown",
   "id": "2c3909d0",
   "metadata": {},
   "source": [
    "Method **del** works with indices and allows for the deletion of parts of the list through slicing."
   ]
  },
  {
   "cell_type": "code",
   "execution_count": null,
   "id": "ddfa917f",
   "metadata": {},
   "outputs": [],
   "source": [
    "# EXAMPLE \n",
    "\n",
    "del random_list[0:1]\n",
    "\n",
    "random_list"
   ]
  },
  {
   "cell_type": "markdown",
   "id": "962f5e94",
   "metadata": {},
   "source": [
    "Make sure that you specify which elements you want to delete or it will delete the entire list."
   ]
  },
  {
   "cell_type": "code",
   "execution_count": null,
   "id": "2b530a81",
   "metadata": {},
   "outputs": [],
   "source": [
    "del random_list\n",
    "random_list"
   ]
  },
  {
   "cell_type": "markdown",
   "id": "08345dd7",
   "metadata": {},
   "source": [
    "Method **.pop(  )** works with indices. It is the last symbol/character/object by default. But you can add a specific index."
   ]
  },
  {
   "cell_type": "code",
   "execution_count": null,
   "id": "26c5a2ac",
   "metadata": {},
   "outputs": [],
   "source": [
    "# EXAMPLE \n",
    "random_list = ['Zoom', 1, 7, 9, \"Python\", \"Berkeley\",\"Python\"]\n",
    "\n",
    "random_list.pop()"
   ]
  },
  {
   "cell_type": "code",
   "execution_count": null,
   "id": "4dc30e6c",
   "metadata": {},
   "outputs": [],
   "source": [
    "# EXAMPLE \n",
    "\n",
    "random_list.pop(0)"
   ]
  },
  {
   "cell_type": "markdown",
   "id": "4aa96b0a",
   "metadata": {},
   "source": [
    "Notice that **.pop(  )** outputs the thing it removed from the list. Can you think of a reason why this would be useful? "
   ]
  },
  {
   "cell_type": "code",
   "execution_count": null,
   "id": "ec3bae5d",
   "metadata": {},
   "outputs": [],
   "source": [
    "# EXAMPLE \n",
    "\n",
    "state = [\"California\", \"is\", \"on the\", \"West Coast\"]\n",
    "print(state)\n",
    "last = state.pop()\n",
    "print(state)\n",
    "print(last)"
   ]
  },
  {
   "cell_type": "markdown",
   "id": "2ac8b2f0",
   "metadata": {},
   "source": [
    "Another method you can use for lists is **.remove**. This method uses the exact values (case matters too)."
   ]
  },
  {
   "cell_type": "code",
   "execution_count": null,
   "id": "dfd024b8",
   "metadata": {},
   "outputs": [],
   "source": [
    "# EXAMPLE \n",
    "\n",
    "random_list.remove(\"Python\")\n",
    "random_list"
   ]
  },
  {
   "cell_type": "markdown",
   "id": "e2e18979",
   "metadata": {},
   "source": [
    "Note that this method, removes all the instances of \"Python\""
   ]
  },
  {
   "cell_type": "markdown",
   "id": "f1f1a257",
   "metadata": {},
   "source": [
    "In the cell below, delete three elements with the help of three different methods shown above.\n",
    "\n",
    "* Use the delete function to remove Judith and Spongebob from the end of the list \n",
    "* Use the pop method to remove Casper from spot 4\n",
    "* Use the remove method to remove Pete and use the method of your choice to add Pete back in to Spot 13\n",
    "\n",
    "\n",
    "Hint: If you want to specify the last item in the list, you can use [-1].\n",
    "Similarly the second too last  element is specified by [-2]"
   ]
  },
  {
   "cell_type": "code",
   "execution_count": null,
   "id": "5c1026f5",
   "metadata": {},
   "outputs": [],
   "source": [
    "# EXERCISE\n",
    "apprentices = apprentices = ['AJ', 'Amara', 'Casper', 'Eli', 'Fatima', 'Hana', 'Judith', 'Juian', 'Kai',' Leila',\n",
    "               'Liam', 'Luca', 'Mateo', 'Mai', 'Micah', 'Nia', 'Noah', 'Pete',\n",
    "               'Priya', 'Sally', 'Sophia','Theo','Yara','Zara', 'Judith', 'Spongebob']\n",
    "\n",
    "#del function\n",
    "...\n",
    "...\n",
    "print(apprentices)\n",
    "\n",
    "#pop method\n",
    "...\n",
    "print(apprentices)\n",
    "\n",
    "\n",
    "#remove method\n",
    "...\n",
    "...\n",
    "print(apprentices)"
   ]
  },
  {
   "cell_type": "code",
   "execution_count": null,
   "id": "c3522d93",
   "metadata": {},
   "outputs": [],
   "source": [
    "# Challenge Excercise \n",
    "# Remember your teams from an earlier chalange?\n",
    "\n",
    "team1 = ['AJ', 'Hana', 'Liam', 'Micah', 'Priya', 'Yara']\n",
    "team2 = ['Amara', 'Julian', 'Luca', 'Nia', 'Sally', 'Zara']\n",
    "team3 = ['Eli', 'Kai', 'Mateo', 'Noah', 'Sophia']\n",
    "team4 = ['Fatima', 'Leila', 'Mai', 'Pete', 'Theo','Judith']\n",
    "\n",
    "\n",
    "# Lets say that Mateo can't make it one day. \n",
    "# Remove Mateo from Team 3, remove Hana from Team 1 and add \n",
    "# her to Team 1. \n",
    "# Optional: See if you can do all of that in one line of code. \n",
    "\n",
    "\n",
    "...\n",
    "\n",
    "print('Team 1:', team1)\n",
    "print('Team 3:', team3)\n"
   ]
  },
  {
   "cell_type": "markdown",
   "id": "3be28d24",
   "metadata": {},
   "source": [
    "### 2.4 Length of a list<a id='subsection7'></a>"
   ]
  },
  {
   "cell_type": "markdown",
   "id": "f97ff254",
   "metadata": {},
   "source": [
    "Built-in function **len(   )** can also be used to figure out the length of a list. The len(): function can be used to find the total count of elements in a list."
   ]
  },
  {
   "cell_type": "code",
   "execution_count": null,
   "id": "186bc995",
   "metadata": {},
   "outputs": [],
   "source": [
    "# EXAMPLE \n",
    "# Before running this cell, think what the output will be.\n",
    "\n",
    "teamColors = [\"Red\", \"Blue\", \"Yellow\", \"Green\"]\n",
    "len(teamColors)"
   ]
  },
  {
   "cell_type": "markdown",
   "id": "805f95ab",
   "metadata": {},
   "source": [
    "When used with lists, it counts only the \"outer\" objects. Meaning, if there are lists inside of your list, no matter however many objects each of them has, the len(  ) will count the whole list as a single object."
   ]
  },
  {
   "cell_type": "code",
   "execution_count": null,
   "id": "df0f012c",
   "metadata": {},
   "outputs": [],
   "source": [
    "listOfLists = [[1,2,3,4],[4,5,6]]\n",
    "\n",
    "# Before running this cell, can you guess the output it will give you?\n",
    "\n",
    "len(listOfLists)"
   ]
  },
  {
   "cell_type": "code",
   "execution_count": null,
   "id": "785b279b",
   "metadata": {},
   "outputs": [],
   "source": [
    "len(listOfLists[0])"
   ]
  },
  {
   "cell_type": "markdown",
   "id": "80124332",
   "metadata": {},
   "source": [
    "### 2.5 Operations on a list<a id='subsection8'></a>"
   ]
  },
  {
   "cell_type": "code",
   "execution_count": null,
   "id": "5fd4aa02",
   "metadata": {},
   "outputs": [],
   "source": [
    "my_numbers = [1, 2, 3, 4, 5]"
   ]
  },
  {
   "cell_type": "code",
   "execution_count": null,
   "id": "53fb64d7",
   "metadata": {},
   "outputs": [],
   "source": [
    "# EXAMPLE\n",
    "\n",
    "my_numbers + 2"
   ]
  },
  {
   "cell_type": "markdown",
   "id": "9d479d0a",
   "metadata": {},
   "source": [
    "Lists do not support \"+\" as a addition, rather the \"+\" operator combines, or concatenates multiple lists. In order to concatenate, or glue elements together, they must the same data type or data structure. "
   ]
  },
  {
   "cell_type": "code",
   "execution_count": null,
   "id": "03bf29d6",
   "metadata": {},
   "outputs": [],
   "source": [
    "my_numbers + [2]"
   ]
  },
  {
   "cell_type": "code",
   "execution_count": null,
   "id": "43ff18e6",
   "metadata": {},
   "outputs": [],
   "source": [
    "list_one = [1, 2, 3]\n",
    "list_two = [4, 5, 6]\n",
    "list_three = list_one + list_two\n",
    "list_three"
   ]
  },
  {
   "cell_type": "markdown",
   "id": "d95793f3",
   "metadata": {},
   "source": [
    "Can you guess the output of the next cell?"
   ]
  },
  {
   "cell_type": "code",
   "execution_count": null,
   "id": "7cd67c29",
   "metadata": {},
   "outputs": [],
   "source": [
    "# EXAMPLE\n",
    "\n",
    "my_numbers * 2"
   ]
  },
  {
   "cell_type": "markdown",
   "id": "9d7725c2",
   "metadata": {},
   "source": [
    "---\n",
    "# Exit Ticket <a id='section3'></a>"
   ]
  },
  {
   "cell_type": "markdown",
   "id": "c80465d2",
   "metadata": {},
   "source": [
    "Use the following link to access the Exit Ticket for this notebook:\n",
    "https://forms.gle/tkM7TxGqwDBBv2MN8"
   ]
  },
  {
   "cell_type": "markdown",
   "id": "cace9461",
   "metadata": {},
   "source": [
    "---\n",
    "# Dictionaries (optional) <a id='section4'></a>"
   ]
  },
  {
   "cell_type": "markdown",
   "id": "1de9d074",
   "metadata": {},
   "source": [
    "Dictionaries are used to store data values in key:value pairs. A dictionary is a collection which is ordered, changeable, and do not allow duplicates. Dictionaries are very useful when you are working with a lot of data with similar categories. "
   ]
  },
  {
   "cell_type": "code",
   "execution_count": null,
   "id": "60fc314b",
   "metadata": {},
   "outputs": [],
   "source": [
    "#A dictionary of passwords (keys) for various services (values)\n",
    "\n",
    "player1 = {\n",
    "    \"name\": \"myName\",\n",
    "    \"position\" : position,\n",
    "    \"direc\" : [direc_y, direc_x],\n",
    "    \"placeInLine\" : 3,\n",
    "    \"team\" : \"Red\"\n",
    "}\n",
    "\n",
    "player1"
   ]
  },
  {
   "cell_type": "markdown",
   "id": "74aba7c2",
   "metadata": {},
   "source": [
    "You can use the key name to retrieve values:"
   ]
  },
  {
   "cell_type": "code",
   "execution_count": null,
   "id": "fce3b620",
   "metadata": {},
   "outputs": [],
   "source": [
    "player1[\"team\"]"
   ]
  },
  {
   "cell_type": "markdown",
   "id": "4fb6ce1f",
   "metadata": {},
   "source": [
    "Another method is using the get() function:"
   ]
  },
  {
   "cell_type": "code",
   "execution_count": null,
   "id": "e030d860",
   "metadata": {},
   "outputs": [],
   "source": [
    "player1.get(\"position\")"
   ]
  },
  {
   "cell_type": "markdown",
   "id": "dd61e8c2",
   "metadata": {},
   "source": [
    "Duplicates are **not** allowed in dictionaries. This means that if you have a duplicate key, the value will be overwritten:"
   ]
  },
  {
   "cell_type": "code",
   "execution_count": null,
   "id": "962e2931",
   "metadata": {},
   "outputs": [],
   "source": [
    "player1 = {\n",
    "    \"name\": \"myName\",\n",
    "    \"position\" : position,\n",
    "    \"direc\" : [direc_y, direc_x],\n",
    "    \"num_balls_moved\" : 3,\n",
    "    \"team\" : \"Red\",\n",
    "    \"team\" : \"Blue\"\n",
    "}\n",
    "\n",
    "player1"
   ]
  },
  {
   "cell_type": "markdown",
   "id": "a643aa2a",
   "metadata": {},
   "source": [
    "Values in a dictionary can be of any type! (You can also use integers and floats for keys instead of strings)"
   ]
  },
  {
   "cell_type": "markdown",
   "id": "8f6c8091",
   "metadata": {},
   "source": [
    "Do you have to rewrite the whole dictionary each time to update it? No! You can change, add, and delete values:"
   ]
  },
  {
   "cell_type": "code",
   "execution_count": null,
   "id": "4dc51492",
   "metadata": {},
   "outputs": [],
   "source": [
    "# the player completes a round and adds a ball to their team's bucket.\n",
    "# We'd better update the `num_balls_moved` variable for that player\n",
    "player1[\"num_balls_moved\"] += 1\n",
    "\n",
    "player1"
   ]
  },
  {
   "cell_type": "code",
   "execution_count": null,
   "id": "0e073989",
   "metadata": {},
   "outputs": [],
   "source": [
    "#Similarly we can add a key:value pair:\n",
    "\n",
    "player1[\"place_in_line\"] = 3 \n",
    "\n",
    "player1"
   ]
  },
  {
   "cell_type": "code",
   "execution_count": null,
   "id": "61335f90",
   "metadata": {},
   "outputs": [],
   "source": [
    "#Deleting is similar to lists - use pop() or del\n",
    "\n",
    "player1.pop(\"place_in_line\")\n",
    "del player1[\"name\"]\n",
    "\n",
    "player1"
   ]
  },
  {
   "cell_type": "code",
   "execution_count": null,
   "id": "e8f2ca82",
   "metadata": {},
   "outputs": [],
   "source": [
    "#And we can empty the whole dictionary using clear!\n",
    "\n",
    "player1.clear()\n",
    "player1"
   ]
  },
  {
   "attachments": {
    "board.png": {
     "image/png": "[encoded data removed]"
    }
   },
   "cell_type": "markdown",
   "id": "659b824e",
   "metadata": {},
   "source": [
    "**Challenge:** You want to share the maze path you are using, but you can't send pictures. \n",
    "Create a dictionary called `mazePath`, with integer keys the path in terms of the directions you would have to travel for the rest of first 7 steps.\n",
    "\n",
    "![board.png](attachment:board.png)\n",
    "\n",
    "\n",
    "After creating the dictionary, add several more steps."
   ]
  },
  {
   "cell_type": "code",
   "execution_count": null,
   "id": "f5903552",
   "metadata": {},
   "outputs": [],
   "source": [
    "mazePath = {\n",
    "    0:\"forward\",\n",
    "    1:\"left\",\n",
    "    2:\"right\",\n",
    "    3:\"jump\",\n",
    "    4:\"right\",\n",
    "    5:\"left\",\n",
    "    6:\"forward\",\n",
    "}\n",
    "\n",
    "mazePath[7] = \"forward\"\n",
    "mazePath[8] = \"right\"\n",
    "mazePath"
   ]
  },
  {
   "cell_type": "markdown",
   "id": "4abb0738",
   "metadata": {},
   "source": [
    "* Ask a group member to choose a step to change. Replace that value with another one.\n",
    "* Delete step 6. "
   ]
  },
  {
   "cell_type": "code",
   "execution_count": null,
   "id": "b0beace6",
   "metadata": {},
   "outputs": [],
   "source": [
    "mazePath[4]='forward'\n",
    "mazePath.pop(6)\n",
    "\n",
    "mazePath"
   ]
  },
  {
   "cell_type": "markdown",
   "id": "fd81a98e",
   "metadata": {},
   "source": [
    "---\n",
    "Notebook developed by: Kseniya Usovich, Rachel McCarty, Baishakhi Bose, Alisa Bettale, Laurel Hales"
   ]
  },
  {
   "cell_type": "code",
   "execution_count": null,
   "id": "6c6ed808",
   "metadata": {},
   "outputs": [],
   "source": []
  }
 ],
 "metadata": {
  "kernelspec": {
   "display_name": "Python [conda env:py37]",
   "language": "python",
   "name": "conda-env-py37-py"
  },
  "language_info": {
   "codemirror_mode": {
    "name": "ipython",
    "version": 3
   },
   "file_extension": ".py",
   "mimetype": "text/x-python",
   "name": "python",
   "nbconvert_exporter": "python",
   "pygments_lexer": "ipython3",
   "version": "3.7.10"
  }
 },
 "nbformat": 4,
 "nbformat_minor": 5
}
