{
 "cells": [
  {
   "cell_type": "markdown",
   "metadata": {},
   "source": [
    "\n",
    "----\n",
    "\n",
    "# NumPy Arrays\n",
    "\n",
    "\n",
    "\n",
    "---\n",
    "\n",
    "### Table of Contents\n",
    "\n",
    "\n",
    "1 - [NumPy Arrays](#section1)<br>\n",
    "\n",
    "&nbsp;&nbsp;&nbsp;&nbsp;&nbsp;&nbsp; 1.1 - [Creating NumPy Arrays](#subsection1)<br>\n",
    "\n",
    "&nbsp;&nbsp;&nbsp;&nbsp;&nbsp;&nbsp; 1.2 - [Basic Operations with NumPy Arrays](#subsection2)<br>\n",
    "\n",
    "&nbsp;&nbsp;&nbsp;&nbsp;&nbsp;&nbsp; 1.3 - [Indexing & Slicing NumPy Arrays](#subsection3)<br>\n",
    "\n"
   ]
  },
  {
   "cell_type": "markdown",
   "metadata": {},
   "source": [
    "---\n",
    "## NumPy Arrays <a id='section1'></a>"
   ]
  },
  {
   "cell_type": "markdown",
   "metadata": {},
   "source": [
    "NumPy (short for \"Numerical Python\") is a Python library that allows us to work with arrays and easily process large amounts of numerical data. This means we must import the library in order to use it! \n",
    "\n",
    "In order to save us some typing time we can give our libraries a shorter alias, like <b>np</b> for NumPy."
   ]
  },
  {
   "cell_type": "code",
   "execution_count": null,
   "metadata": {},
   "outputs": [],
   "source": [
    "import numpy as np\n",
    "from matplotlib import pyplot as plt\n",
    "%matplotlib inline\n",
    "from jupyter_utils import *"
   ]
  },
  {
   "cell_type": "markdown",
   "metadata": {},
   "source": [
    "### 1.1 Creating Numpy Arrays  <a id='subsection1'></a>\n"
   ]
  },
  {
   "cell_type": "markdown",
   "metadata": {},
   "source": [
    "A NumPy array is just a table of data of the same type. From [NumPy.org](https://numpy.org/doc/stable/user/absolute_beginners.html): NumPy arrays can be used to perform a wide variety of mathematical operations on arrays. It adds powerful data structures to Python that guarantee efficient calculations with arrays and matrices and it supplies an enormous library of high-level mathematical functions that operate on these arrays and matrices.\n",
    "\n",
    "\n",
    "In order to use NumPy you can either convert data you already have into a NumPy array or create a blank array from scratch. NumPy arrays and Python lists are similar, yet they react differently to various operations."
   ]
  },
  {
   "cell_type": "code",
   "execution_count": null,
   "metadata": {},
   "outputs": [],
   "source": [
    "#Create an array\n",
    "array1 = np.array([1,2,3,4])\n",
    "\n",
    "#Create a list\n",
    "list1 = [1,2,3,4]\n",
    "\n",
    "array1, list1"
   ]
  },
  {
   "cell_type": "markdown",
   "metadata": {},
   "source": [
    "Try doing the following operations and see if you notice any differences!\n",
    "\n",
    "array1 + array1\n",
    "\n",
    "list1 + list1\n",
    "\n",
    "array1 * array1\n",
    "\n",
    "list1 * list1"
   ]
  },
  {
   "cell_type": "code",
   "execution_count": null,
   "metadata": {},
   "outputs": [],
   "source": [
    "# EXERCISE\n",
    "\n",
    "\n",
    "\n",
    "\n",
    "print(...) # add two arrays\n",
    "print(...) # add two lists"
   ]
  },
  {
   "cell_type": "code",
   "execution_count": null,
   "metadata": {},
   "outputs": [],
   "source": [
    "# EXERCISE\n",
    "\n",
    "# multiply two arrays\n",
    "# multiply two lists\n",
    "\n",
    "print(...)\n",
    "print(...)"
   ]
  },
  {
   "cell_type": "code",
   "execution_count": null,
   "metadata": {},
   "outputs": [],
   "source": [
    "# EXAMPLE\n",
    "\n",
    "# Create a new list\n",
    "\n",
    "list_of_numbers = [0, 1, 2, 3, 4, 5]\n",
    "list_of_numbers"
   ]
  },
  {
   "cell_type": "code",
   "execution_count": null,
   "metadata": {},
   "outputs": [],
   "source": [
    "# Example\n",
    "\n",
    "# Verify that it is indeed a regular Python list\n",
    "\n",
    "type(list_of_numbers)"
   ]
  },
  {
   "cell_type": "code",
   "execution_count": null,
   "metadata": {},
   "outputs": [],
   "source": [
    "# EXAMPLE\n",
    "\n",
    "#Create a new Numpy array from our list and display it\n",
    "\n",
    "array_from_list = np.array(list_of_numbers)\n",
    "array_from_list"
   ]
  },
  {
   "cell_type": "code",
   "execution_count": null,
   "metadata": {},
   "outputs": [],
   "source": [
    "# EXERCISE\n",
    "\n",
    "# Verify that it's an array and not a list\n",
    "\n",
    "..."
   ]
  },
  {
   "cell_type": "markdown",
   "metadata": {},
   "source": [
    "Usually, we get arrays from our data. If we don't yet have any data or just want a placeholder for our data, we can create a NumPy array filled with ones by calling np.ones() and specifying the size of the array in a tuple, (3, 4).\n",
    "\n",
    "*A tuple is another data type in Python. It's similar to a list, but uses parentheses instead of square brackets, and unlike lists, are unchangeable*"
   ]
  },
  {
   "cell_type": "code",
   "execution_count": null,
   "metadata": {},
   "outputs": [],
   "source": [
    "# EXAMPLE\n",
    "\n",
    "#Create an array of size 3x4 and fill it with ones\n",
    "\n",
    "ones_array = np.ones((3, 4))\n",
    "ones_array"
   ]
  },
  {
   "cell_type": "markdown",
   "metadata": {},
   "source": [
    "We can also create arrays filled with zeros."
   ]
  },
  {
   "cell_type": "code",
   "execution_count": null,
   "metadata": {},
   "outputs": [],
   "source": [
    "# EXERCISE\n",
    "\n",
    "# Create a 3x4 array of zeroes\n",
    "# It will have a similar syntax, but instead we need to call \n",
    "# a function \"zeros\", not \"ones\" from our NumPy library\n",
    "\n",
    "zeros_array = ...\n",
    "zeros_array"
   ]
  },
  {
   "cell_type": "code",
   "execution_count": null,
   "metadata": {},
   "outputs": [],
   "source": [
    "import numpy as np"
   ]
  },
  {
   "cell_type": "code",
   "execution_count": null,
   "metadata": {},
   "outputs": [],
   "source": [
    "x = np.array([[1,2,3],[4,5,6],[7,8,9]])\n",
    "print(x)"
   ]
  },
  {
   "cell_type": "markdown",
   "metadata": {},
   "source": [
    "Similarly we can create NumPy arrays filled with any other value. To accomplish this we use np.full and specify both the size of the array and the value we would like to fill that array with."
   ]
  },
  {
   "cell_type": "code",
   "execution_count": null,
   "metadata": {},
   "outputs": [],
   "source": [
    "# EXAMPLE\n",
    "\n",
    "array_of_twos = np.full((3, 4), 2)\n",
    "array_of_twos"
   ]
  },
  {
   "cell_type": "code",
   "execution_count": null,
   "metadata": {},
   "outputs": [],
   "source": [
    "# EXERCISE\n",
    "\n",
    "# Create a 2x5 array of halves: \"0.5\" or \"1/2\"\n",
    "\n",
    "array_of_halves = ...\n",
    "array_of_halves"
   ]
  },
  {
   "cell_type": "code",
   "execution_count": null,
   "metadata": {},
   "outputs": [],
   "source": [
    "# EXAMPLE\n",
    "\n",
    "x = np.array ( [1,2,3] )\n",
    "y = np.array ( [4,5,6] )\n",
    "# add array x to array y and store it in a result array\n",
    "result = np.add(x,y)\n",
    "result"
   ]
  },
  {
   "cell_type": "code",
   "execution_count": null,
   "metadata": {},
   "outputs": [],
   "source": [
    "# EXERCISE\n",
    "\n",
    "# Modify the above code to subtract array x from array y\n",
    "\n",
    "x = np.array ( [1,2,3] )\n",
    "y = np.array ( [4,5,6] )\n",
    "\n",
    "result = ...\n",
    "result"
   ]
  },
  {
   "cell_type": "markdown",
   "metadata": {},
   "source": [
    "In the cell below, create a 4x3 array filled with Pi.\n",
    "\n",
    "**Hint:** Similar to the math library, you can use the the numpy library to import the value of pi."
   ]
  },
  {
   "cell_type": "code",
   "execution_count": null,
   "metadata": {},
   "outputs": [],
   "source": [
    "# EXERCISE\n",
    "\n",
    "array_of_pies = ...\n",
    "array_of_pies"
   ]
  },
  {
   "cell_type": "markdown",
   "metadata": {},
   "source": [
    "If we want NumPy to fill the array with random numbers between zero and one, we can use np.random.rand().\n",
    "Although counterintuitive, for this function we do not need to put the size of the array in a tuple. Instead we just give NumPy the dimensions of the array directly.  "
   ]
  },
  {
   "cell_type": "code",
   "execution_count": null,
   "metadata": {},
   "outputs": [],
   "source": [
    "# EXAMPLE\n",
    "\n",
    "np.random.rand(2,3)"
   ]
  },
  {
   "cell_type": "markdown",
   "metadata": {},
   "source": [
    "### 1.2 Basic Operations with Numpy Arrays  <a id='subsection2'></a>\n"
   ]
  },
  {
   "cell_type": "markdown",
   "metadata": {},
   "source": [
    "NumPy is much more than just an array creator. It allows us to do blazingly fast operations with arrays. Operations performed with NumPy on arrays can be computed significantly faster than with other Python functions on lists.\n",
    "For example, let's say that we have an array of one million random probabilities of it raining on a particular day."
   ]
  },
  {
   "cell_type": "code",
   "execution_count": null,
   "metadata": {},
   "outputs": [],
   "source": [
    "# EXAMPLE\n",
    "\n",
    "random_million = np.random.rand(1000000, 1)\n",
    "random_million"
   ]
  },
  {
   "cell_type": "markdown",
   "metadata": {},
   "source": [
    "Let's check that the array is actully one million numbers long. \n",
    "\n",
    "**Hint:** Just like with most other data structures (lists) and some data types (strings), you can use the traditional Python len( ) function to check the *length* of your object."
   ]
  },
  {
   "cell_type": "code",
   "execution_count": null,
   "metadata": {},
   "outputs": [],
   "source": [
    "# EXERCISE\n"
   ]
  },
  {
   "cell_type": "markdown",
   "metadata": {},
   "source": [
    "Yep, that checks out.<br> <br>Now let's say that we want these probabilities to be in percentages (out of 100 rather) than proportions (from zero to one). We can just multiply the whole array by 100!"
   ]
  },
  {
   "cell_type": "code",
   "execution_count": null,
   "metadata": {},
   "outputs": [],
   "source": [
    "# EXAMPLE\n",
    "\n",
    "percentages = random_million * 100\n",
    "percentages"
   ]
  },
  {
   "cell_type": "markdown",
   "metadata": {},
   "source": [
    "Notice that NumPy accomplishes that multiplication in a fraction of a second when we use it with arrays. That's a million multiplications! In the cell below you can see how much longer the code is for doing the same operations on a list. \n",
    "\n",
    "**Note:** We cut our list to have 10,000 values only, because it can take it a long time to run a for-loop over 1 million values. "
   ]
  },
  {
   "cell_type": "code",
   "execution_count": null,
   "metadata": {},
   "outputs": [],
   "source": [
    "# EXAMPLE\n",
    "\n",
    "random_mln_lst = list(random_million[:10000])\n",
    "percentages_lst = [] \n",
    "\n",
    "for i in random_mln_lst:\n",
    "    percentages_lst += [i*100] \n",
    "    \n",
    "print(percentages_lst)    "
   ]
  },
  {
   "cell_type": "markdown",
   "metadata": {},
   "source": [
    " Let's see if we can get NumPy to at least break a sweat doing multiplications."
   ]
  },
  {
   "cell_type": "code",
   "execution_count": null,
   "metadata": {},
   "outputs": [],
   "source": [
    "# EXAMPLE\n",
    "\n",
    "# 100 million multiplications\n",
    "np.random.rand(100000000) * 100"
   ]
  },
  {
   "cell_type": "markdown",
   "metadata": {},
   "source": [
    "NumPy is relly fast! Not to mention that it first needs to come up with the random numbers in the array, and only then can it do the multiplications we are asking it to do. That's pretty useful if you want to analyze a huge amount of data!"
   ]
  },
  {
   "cell_type": "markdown",
   "metadata": {},
   "source": [
    "Let's see what other operations we can do with NumPy arrays.\n",
    "\n",
    "Can it add the same number to all the elements of our array? How about subtracting it? Even dividing by it?"
   ]
  },
  {
   "cell_type": "code",
   "execution_count": null,
   "metadata": {},
   "outputs": [],
   "source": [
    "# EXAMPLE\n",
    "\n",
    "plus_fifty = random_million + 50\n",
    "plus_fifty"
   ]
  },
  {
   "cell_type": "markdown",
   "metadata": {},
   "source": [
    "How about if we want to divide each value by 2?"
   ]
  },
  {
   "cell_type": "code",
   "execution_count": null,
   "metadata": {},
   "outputs": [],
   "source": [
    "# EXERCISE\n",
    "\n",
    "divided_by_two = ...\n",
    "divided_by_two"
   ]
  },
  {
   "cell_type": "markdown",
   "metadata": {},
   "source": [
    "We can even do those arithmetic operations between two arrays if they are of the same size!"
   ]
  },
  {
   "cell_type": "code",
   "execution_count": null,
   "metadata": {},
   "outputs": [],
   "source": [
    "# EXAMPLE\n",
    "\n",
    "sum_of_arrays = divided_by_two + plus_fifty\n",
    "sum_of_arrays"
   ]
  },
  {
   "cell_type": "code",
   "execution_count": null,
   "metadata": {},
   "outputs": [],
   "source": [
    "# EXAMPLE\n",
    "\n",
    "x = np.array ([2,3,4])\n",
    "np.exp(x)"
   ]
  },
  {
   "cell_type": "code",
   "execution_count": null,
   "metadata": {},
   "outputs": [],
   "source": [
    "# EXERCISE\n",
    "\n",
    "#Modify the above code to calculate the square root of x.\n",
    "x = np.array ([2,3,4])\n",
    "..."
   ]
  },
  {
   "cell_type": "markdown",
   "metadata": {},
   "source": [
    "### 1.3 Indexing & Slicing Numpy Arrays  <a id='subsection3'></a>\n"
   ]
  },
  {
   "cell_type": "markdown",
   "metadata": {},
   "source": [
    "Just like we did with Python lists, if we ever need to retreive a value at a particular index in a NumPy array, we can use [num:num] to get it."
   ]
  },
  {
   "cell_type": "code",
   "execution_count": null,
   "metadata": {},
   "outputs": [],
   "source": [
    "# EXAMPLE\n",
    "\n",
    "print(array_from_list)\n",
    "print(\"Value at index 0 is:\", array_from_list[0])"
   ]
  },
  {
   "cell_type": "markdown",
   "metadata": {},
   "source": [
    "Try to retrieve a value at index **3** of our array."
   ]
  },
  {
   "cell_type": "code",
   "execution_count": null,
   "metadata": {},
   "outputs": [],
   "source": [
    "# EXERCISE\n",
    "\n",
    "print(\"Value at index 3 is:\", ...) "
   ]
  },
  {
   "cell_type": "markdown",
   "metadata": {},
   "source": [
    "We can also get a \"slice\" of numbers just like we would from a list. Remember that we slice up to the stopindex - 1!"
   ]
  },
  {
   "cell_type": "code",
   "execution_count": null,
   "metadata": {},
   "outputs": [],
   "source": [
    "# EXAMPLE\n",
    "\n",
    "array_from_list[2:5]"
   ]
  },
  {
   "cell_type": "markdown",
   "metadata": {},
   "source": [
    "Now how would you return all the values starting with index 2 (skipping values at indices 0 and 1)?"
   ]
  },
  {
   "cell_type": "code",
   "execution_count": null,
   "metadata": {},
   "outputs": [],
   "source": [
    "# EXERCISE\n",
    "\n",
    "..."
   ]
  },
  {
   "cell_type": "markdown",
   "metadata": {},
   "source": [
    "You can think of arrays as tables. If your array has more than one column per row, we just use a comma between the index of the first dimension (row) and the index of the second dimension (column). The indexing and slicing works exactly the same as before, but we can do it separately for rows and columns."
   ]
  },
  {
   "cell_type": "code",
   "execution_count": null,
   "metadata": {},
   "outputs": [],
   "source": [
    "# EXAMPLE\n",
    "\n",
    "three_by_five = np.random.rand(5, 3)\n",
    "three_by_five"
   ]
  },
  {
   "cell_type": "code",
   "execution_count": null,
   "metadata": {},
   "outputs": [],
   "source": [
    "# EXAMPLE\n",
    "\n",
    "three_by_five[0, 0]"
   ]
  },
  {
   "cell_type": "markdown",
   "metadata": {},
   "source": [
    "Now let's try to retrieve the value from the bottom right. \n",
    "\n",
    "**Hint:** Remember, first we input rows, then columns. Also, don't forget that Python starts counting from *zero*."
   ]
  },
  {
   "cell_type": "code",
   "execution_count": null,
   "metadata": {},
   "outputs": [],
   "source": [
    "# EXERCISE\n",
    "\n",
    "..."
   ]
  },
  {
   "cell_type": "markdown",
   "metadata": {},
   "source": [
    "Just like with regular arrays and lists, we can slice arrays that have multiple columns. The same rules apply: first we input the desired rows, then the desired columns. In the cell below, we are asking for our array to output values on row 0, columns 1 through 3 (our array has only 2 columns, but it won't error). "
   ]
  },
  {
   "cell_type": "code",
   "execution_count": null,
   "metadata": {},
   "outputs": [],
   "source": [
    "# EXAMPLE\n",
    "\n",
    "three_by_five[0, 1:4]"
   ]
  },
  {
   "cell_type": "code",
   "execution_count": null,
   "metadata": {},
   "outputs": [],
   "source": [
    "# EXAMPLE - output rows 1 through 4, column 0\n",
    "\n",
    "three_by_five[1:, :1]"
   ]
  },
  {
   "cell_type": "markdown",
   "metadata": {},
   "source": [
    "Now how would we output only the last values of all rows?"
   ]
  },
  {
   "cell_type": "code",
   "execution_count": null,
   "metadata": {},
   "outputs": [],
   "source": [
    "# EXERCISE\n",
    "...\n"
   ]
  },
  {
   "cell_type": "markdown",
   "metadata": {},
   "source": [
    "Let's have some fun with arrays"
   ]
  },
  {
   "cell_type": "markdown",
   "metadata": {},
   "source": [
    "We have already loaded some data for you about the sunrise and sunset times WashingtonDC.\n",
    "\n",
    "the following arrays give average time of the sunrise for each month, and one giving the average time of the sunset. The first row of each array gives the hour, and the second row, gives the minutes. "
   ]
  },
  {
   "cell_type": "code",
   "execution_count": null,
   "metadata": {},
   "outputs": [],
   "source": [
    "print(dc_sunrise)\n",
    "print(dc_sunset)"
   ]
  },
  {
   "cell_type": "markdown",
   "metadata": {},
   "source": [
    "So you can see that in January in DC, the average times for a sunrise was 7:23. Let's say that we want to figure out the average number of hours of sunlight in DC for each month. How would we do that? "
   ]
  },
  {
   "cell_type": "code",
   "execution_count": null,
   "metadata": {},
   "outputs": [],
   "source": [
    "# Example\n",
    "\n",
    "# we have both hours and minutes, let's write both rows in terms of hours.\n",
    "\n",
    "dc_sunrise [1,:] = dc_sunrise[1,:] / 60\n",
    "dc_sunset [1,:] = dc_sunset[1,:] / 60\n",
    "\n",
    "print(dc_sunrise)\n",
    "print(dc_sunset)"
   ]
  },
  {
   "cell_type": "markdown",
   "metadata": {},
   "source": [
    "Wait, what just happened here, why did all the minutes go to zeros?\n",
    "It's because we'e been using arrays of integers so it did integer division and rounded all the values down. Fortunately we can just reload the data and try that again. this time we will load the values as floats. We can check that using the dtype function"
   ]
  },
  {
   "cell_type": "code",
   "execution_count": null,
   "metadata": {},
   "outputs": [],
   "source": [
    "print(dc_sunrise.dtype)\n",
    "print(dc_sunset.dtype)"
   ]
  },
  {
   "cell_type": "code",
   "execution_count": null,
   "metadata": {},
   "outputs": [],
   "source": [
    "dc_sunrise = np.float32(dc_sunrise_orig)\n",
    "dc_sunset = np.float32(dc_sunset_orig)\n",
    "\n",
    "print(dc_sunrise.dtype)\n",
    "print(dc_sunset.dtype)"
   ]
  },
  {
   "cell_type": "markdown",
   "metadata": {},
   "source": [
    "Now that we have arrays of floats we can do the division without a problem. "
   ]
  },
  {
   "cell_type": "code",
   "execution_count": null,
   "metadata": {},
   "outputs": [],
   "source": [
    "dc_sunrise[1,:] = dc_sunrise[1,:] / 60\n",
    "dc_sunset[1,:] = dc_sunset[1,:] / 60.\n",
    "\n",
    "print(dc_sunrise)\n",
    "print(dc_sunset)"
   ]
  },
  {
   "cell_type": "code",
   "execution_count": null,
   "metadata": {},
   "outputs": [],
   "source": [
    "# Example\n",
    "\n",
    "# let's make the sunset hours in military time. \n",
    "\n",
    "dc_sunset[0,:]+=12\n",
    "\n",
    "print(dc_sunset)"
   ]
  },
  {
   "cell_type": "code",
   "execution_count": null,
   "metadata": {},
   "outputs": [],
   "source": [
    "# Example\n",
    "# Now we can calculate the total number of hours \n",
    "# after midnight it is for the sunrise and the sunset using \n",
    "# the sum function. \n",
    "\n",
    "\n",
    "dc_sunrise_hrs = np.sum(dc_sunrise,0)\n",
    "dc_sunset_hrs = np.sum(dc_sunset,0)\n",
    "\n",
    "print(dc_sunrise_hrs)\n",
    "print(dc_sunset_hrs)\n"
   ]
  },
  {
   "cell_type": "markdown",
   "metadata": {},
   "source": [
    "The `np.sum ` command has multiple possible inputs, here we inputed, the array we wanted to sum and the direction we wanted to sum across (in this case, we wanted to add the rows so we put 0)"
   ]
  },
  {
   "cell_type": "code",
   "execution_count": null,
   "metadata": {},
   "outputs": [],
   "source": [
    "# Example\n",
    "# Find the number of minutes of daylight\n",
    "\n",
    "dc_daylight = dc_sunset_hrs - dc_sunrise_hrs \n",
    "dc_daylight"
   ]
  },
  {
   "cell_type": "code",
   "execution_count": null,
   "metadata": {},
   "outputs": [],
   "source": [
    "# Example \n",
    "#Let's find the mean number of hours of sunlight for DC\n",
    "\n",
    "dc_mean_daylight = np.mean(dc_daylight)\n",
    "print(dc_mean_daylight, 'hours')\n",
    "\n",
    "dc_range = np.max(dc_daylight) - np.min(dc_daylight)\n",
    "print('range: ' dc_range)"
   ]
  },
  {
   "cell_type": "markdown",
   "metadata": {},
   "source": [
    "We also have sunrise and sunset data for 5 other cities:   Berlin, Germany; Canberra, Australia; Beijing, China; Helsinki, Finland; and Manilla, Philippines. The other arrays are named `berlin_sunrise, berlin_sunset, canberra_sunrise, canberra_sunset, beijing_sunrise, beijing_sunset, helsinki_sunrise, helsinki_sunset, manila_sunrise, manila_sunset`\n",
    "\n",
    "Have each person at your table pick a different city and use the cells below to figure out the average number of hours of daylight in each city. So you can compare. "
   ]
  },
  {
   "cell_type": "code",
   "execution_count": null,
   "metadata": {},
   "outputs": [],
   "source": []
  },
  {
   "cell_type": "code",
   "execution_count": null,
   "metadata": {},
   "outputs": [],
   "source": []
  },
  {
   "cell_type": "code",
   "execution_count": null,
   "metadata": {},
   "outputs": [],
   "source": []
  },
  {
   "cell_type": "markdown",
   "metadata": {},
   "source": [
    "Which city had the most hours of daylight? \n",
    "type your answer here:\n"
   ]
  },
  {
   "cell_type": "markdown",
   "metadata": {},
   "source": [
    "Let's say that you want to model the path of a bullet shot into the air, like we did in the last notebook. This is way easier to do using numpy arrays. "
   ]
  },
  {
   "cell_type": "code",
   "execution_count": null,
   "metadata": {},
   "outputs": [],
   "source": [
    "#Exercise\n",
    "\n",
    "ts = np.linspace(0,40,41) #(This function creats an array of numbers \n",
    "                         #that is 41 numbers long from 0 to 40 (inclusive))\n",
    "x_0 = 0\n",
    "v_0 = 200\n",
    "a = -9.8\n",
    "\n",
    "xs = ...\n",
    "\n",
    "print(xs)"
   ]
  },
  {
   "cell_type": "code",
   "execution_count": null,
   "metadata": {},
   "outputs": [],
   "source": [
    "# you haven't learned plotting yet so we did it for you\n",
    "plt.plot(ts, xs)\n",
    "plt.xlabel('time (s)')\n",
    "plt.ylabel('distance (m)')"
   ]
  },
  {
   "cell_type": "markdown",
   "metadata": {},
   "source": [
    "You and your friends have decided to go on a hike, we have already imported the an array called `contour`, which contains the information for a contour map giving the elevations of the area, and a list called `hiking_path`, which contains the pixels representing the path you and your friends will take.  See the plot below"
   ]
  },
  {
   "cell_type": "code",
   "execution_count": null,
   "metadata": {},
   "outputs": [],
   "source": [
    "# You haven't learned how to plot yet, so we did it for you. \n",
    "\n",
    "plot_path = np.zeros(contour.shape)\n",
    "for ii in range(len(hiking_path)):\n",
    "    plot_path[hiking_path[ii]] = 1\n",
    "\n",
    "fig = plt.figure(frameon=False)\n",
    "#im2 = plt.imshow(contour,cmap=plt.cm.viridis, alpha=.9, vmin = 1400, interpolation='bilinear')\n",
    "im1 = plt.imshow(plot_path, cmap=plt.cm.gray, interpolation='nearest')\n",
    "im2 = plt.imshow(contour,cmap=plt.cm.viridis, alpha=.9, vmin = 1400, interpolation='bilinear')\n",
    "plt.colorbar()\n",
    "plt.show()\n",
    "plt.axis('off')"
   ]
  },
  {
   "cell_type": "markdown",
   "metadata": {},
   "source": [
    "We can use `contour` and `hiking_path` to find the elevation for each step of the path. For example, if we wanted to find the elevation (in feet) of the first part, we would use the code in the next cell. "
   ]
  },
  {
   "cell_type": "code",
   "execution_count": null,
   "metadata": {},
   "outputs": [],
   "source": [
    "# EXAMPLE\n",
    "contour[hiking_path[0]]"
   ]
  },
  {
   "cell_type": "code",
   "execution_count": null,
   "metadata": {},
   "outputs": [],
   "source": [
    "# EXERCISE\n",
    "# Use what you know about numpy arrays and loops to figure out \n",
    "# the maximum change in altitude on the hike ( The maximum minus the minimum elevations.)\n",
    "\n",
    "elevations = np.zeros((len(hiking_path),1))\n",
    "\n",
    "for ii in ... :\n",
    "    elevations[ii]= ...\n",
    "    \n",
    "max_change = ...\n",
    "\n",
    "print(max_change)"
   ]
  },
  {
   "cell_type": "markdown",
   "metadata": {},
   "source": [
    "---\n",
    "Notebook developed by: Kseniya Usovich, Baishakhi Bose, Alisa Bettale, Laurel Hales"
   ]
  }
 ],
 "metadata": {
  "anaconda-cloud": {},
  "kernelspec": {
   "display_name": "py37",
   "language": "python",
   "name": "py37"
  },
  "language_info": {
   "codemirror_mode": {
    "name": "ipython",
    "version": 3
   },
   "file_extension": ".py",
   "mimetype": "text/x-python",
   "name": "python",
   "nbconvert_exporter": "python",
   "pygments_lexer": "ipython3",
   "version": "3.7.10"
  }
 },
 "nbformat": 4,
 "nbformat_minor": 1
}
