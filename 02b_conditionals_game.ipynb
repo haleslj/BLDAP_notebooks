{
 "cells": [
  {
   "cell_type": "markdown",
   "metadata": {
    "id": "QULY5UK0RNyg"
   },
   "source": [
    "\n",
    "------\n",
    "\n",
    "# Conditionals\n",
    "\n",
    "\n",
    "\n",
    "\n",
    "\n",
    "### Table of Contents\n",
    "\n",
    "\n",
    "1 - [Conditionals](#section1)<br>  \n",
    "\n",
    "&nbsp;&nbsp;&nbsp;&nbsp;&nbsp;&nbsp; 1.1 - [Booleans and Comparison Operators](#subsection1)<br>\n",
    "\n",
    "&nbsp;&nbsp;&nbsp;&nbsp;&nbsp;&nbsp; 1.2 - [Conditional Statements](#subsection2)<br>\n",
    "\n",
    "\n"
   ]
  },
  {
   "cell_type": "code",
   "execution_count": null,
   "metadata": {},
   "outputs": [],
   "source": [
    "# RUN THIS CELL;\n",
    "\n",
    "###DO NOT MODIFY###\n",
    "import math\n",
    "import numpy as np\n",
    "from matplotlib import pyplot as plt\n",
    "from jupyter_utils import *\n",
    "\n",
    "path=np.load('path.npy')\n",
    "%matplotlib inline"
   ]
  },
  {
   "cell_type": "markdown",
   "metadata": {},
   "source": [
    "#### <center> back to the game! <center>"
   ]
  },
  {
   "cell_type": "code",
   "execution_count": null,
   "metadata": {},
   "outputs": [],
   "source": [
    "start_x = 4\n",
    "start_y = 2\n",
    "pos_x = start_x\n",
    "pos_y = start_y\n",
    "direc_x = 1\n",
    "direc_y = 0"
   ]
  },
  {
   "cell_type": "markdown",
   "metadata": {},
   "source": [
    "Our player is starting at the beginning (4,2) \n",
    "<img src = \"images/show_direc.png\">\n",
    "you can use the following functions: \n",
    "    `checkMove(pos_x_test, pos_y_test)` -returns True if (pos_x_test, pos_y_test) is a possible location. \n",
    "    `steps(n, pos_x, pos_y, direc_x, direc_y)` - returns a pos_x_new and pos_y_new after taking n steps forward. \n",
    "    `turnRight(direc_x, direc_y)` - returns a direc_x_new and direc_y_new giving the new direction after turning right.\n",
    "    `turnLeft(direc_x, direc_y)` - returns a direc_x_new and direc_y_new giving the new direction after turning left.\n",
    "    `jump(pos_x, pos_y, direc_x, direc_y)` - returns a pos_x_new and pos_y_new after jumping forward. "
   ]
  },
  {
   "cell_type": "code",
   "execution_count": null,
   "metadata": {},
   "outputs": [],
   "source": [
    "# Example\n",
    "#test to see if a step forward is possible \n",
    "\n",
    "\n",
    "pos_x_test, pos_y_test = steps(1, pos_x, pos_y, direc_x, direc_y)\n",
    "\n",
    "if checkMove(pos_x_test, pos_y_test):\n",
    "    print('you can move forward')\n",
    "else: \n",
    "    print(\"don't take that move\")\n"
   ]
  },
  {
   "cell_type": "code",
   "execution_count": null,
   "metadata": {},
   "outputs": [],
   "source": [
    "pos_x = 4\n",
    "pos_y = 2\n",
    "\n",
    "#Example\n",
    "#make a forward step if possible. \n",
    "\n",
    "pos_x_test, pos_y_test = steps(1, pos_x, pos_y, direc_x, direc_y)\n",
    "\n",
    "if checkMove(pos_x_test, pos_y_test):\n",
    "    pos_x, pos_y= steps(1, pos_x, pos_y, direc_x, direc_y)\n",
    "    \n",
    "else: \n",
    "    print(\"don't take that move\")\n",
    "    \n",
    "\n",
    "    # Do not modify the code below\n",
    "show_player(path,[pos_x,pos_y], direc=[direc_y, direc_x], show_direc=True) #Display current position"
   ]
  },
  {
   "cell_type": "code",
   "execution_count": null,
   "metadata": {},
   "outputs": [],
   "source": [
    "#Example\n",
    "# check to see if a right turn is correct\n",
    "\n",
    "\n",
    "direc_x_test, direc_y_test = turnRight(direc_x, direc_y)\n",
    "pos_x_test, pos_y_test = steps(1, pos_x, pos_y, direc_x_test, direc_y_test)\n",
    "\n",
    "if checkMove(pos_x_test, pos_y_test):\n",
    "    print('you can move forward')\n",
    "else: \n",
    "    print(\"don't take that move\")"
   ]
  },
  {
   "cell_type": "code",
   "execution_count": null,
   "metadata": {},
   "outputs": [],
   "source": [
    "#Example\n",
    "#make a right turn followed by a step possible. \n",
    "\n",
    "\n",
    "direc_x_test, direc_y_test = turnRight(direc_x, direc_y)\n",
    "pos_x_test, pos_y_test = steps(1, pos_x, pos_y, direc_x_test, direc_y_test)\n",
    "\n",
    "if checkMove(pos_x_test, pos_y_test):\n",
    "    direc_x = direc_x_test\n",
    "    direc_y = direc_y_test\n",
    "    pos_x = pos_x_test\n",
    "    pos_y = pos_y_test\n",
    "    \n",
    "    print('you can move forward')\n",
    "else: \n",
    "    print(\"don't take that move\")\n"
   ]
  },
  {
   "cell_type": "markdown",
   "metadata": {},
   "source": [
    "As a group write a conditional statement that checks if it is possible to move forward, and if not, is it poossible to turn right, if not, is it possible to turn let, if not is it possible to jump, and then prints which one you should do. "
   ]
  },
  {
   "cell_type": "code",
   "execution_count": null,
   "metadata": {},
   "outputs": [],
   "source": [
    "#Exercise \n",
    "# check to see if a left turn is possible\n",
    "\n",
    "direc_x_test, direc_y_test = ...\n",
    "pos_x_test, pos_y_test = ...\n",
    "if ():\n",
    "    \n",
    "else:\n",
    "\n",
    "\n"
   ]
  },
  {
   "cell_type": "code",
   "execution_count": null,
   "metadata": {},
   "outputs": [],
   "source": [
    "#Exercise \n",
    "# check to see if a left turn is possible, if it is, make that step\n",
    "direc_x_test, direc_y_test = ...\n",
    "pos_x_test, pos_y_test = ...\n",
    "if ():\n",
    "    pos_x, pos_y = \n",
    "    \n",
    "else:\n",
    "    \n",
    "show_player(path,[pos_x,pos_y], direc=[direc_y, direc_x], show_direc=True) #Display current position"
   ]
  },
  {
   "cell_type": "code",
   "execution_count": null,
   "metadata": {},
   "outputs": [],
   "source": [
    "#Exercise \n",
    "# check to see if a jump is possible\n",
    "\n",
    "pos_x_test, pos_y_test = ...\n",
    "if ():\n",
    "    \n",
    "else:\n",
    "\n",
    "\n"
   ]
  },
  {
   "cell_type": "code",
   "execution_count": null,
   "metadata": {},
   "outputs": [],
   "source": [
    "#Exercise \n",
    "# check to see if a jump turn is possible, if it is, make that step\n",
    "pos_x_test, pos_y_test = ...\n",
    "if ():\n",
    "    pos_x, pos_y = \n",
    "    \n",
    "else:\n",
    "    \n",
    "show_player(path,[pos_x,pos_y], direc=[direc_y, direc_x], show_direc=True) #Display current position"
   ]
  },
  {
   "cell_type": "code",
   "execution_count": null,
   "metadata": {},
   "outputs": [],
   "source": [
    "#Test your method at different starting points and directions. \n",
    "pos_x =\n",
    "pos_y = \n",
    "direc_x = \n",
    "direc_y = \n",
    "\n",
    "# Copy and paste your if statements from the cell above. \n",
    "\n",
    "\n",
    "\n",
    "\n",
    "\n",
    "# Do not modify the code below\n",
    "show_player(path,[pos_x,pos_y], direc=[direc_y, direc_x], show_direc=True) #Display current position"
   ]
  },
  {
   "cell_type": "markdown",
   "metadata": {},
   "source": [
    "EXAMPLE: As a group, write a function with a conditional statement that checks if n `steps` is a possible move"
   ]
  },
  {
   "cell_type": "code",
   "execution_count": null,
   "metadata": {},
   "outputs": [],
   "source": [
    "\n",
    "def checkStep(pos_x, pos_y, direc_x, direc_y):\n",
    "    \n",
    "    pos_x_test, pos_y_test = steps(1, pos_x, pos_y, direc_x, direc_y)\n",
    "\n",
    "    if checkMove(pos_x_test, pos_y_test):\n",
    "        return True\n",
    "    else: \n",
    "        return False\n",
    "    "
   ]
  },
  {
   "cell_type": "code",
   "execution_count": null,
   "metadata": {},
   "outputs": [],
   "source": [
    "show_player(path,[pos_x,pos_y], direc=[direc_y, direc_x], show_direc=True) #Display current position\n",
    "\n",
    "checkSteps(1, pos_x, pos_y, direc_x, direc_y)"
   ]
  },
  {
   "cell_type": "markdown",
   "metadata": {},
   "source": [
    "Example Do the same thing but checking if turning right is a good idea."
   ]
  },
  {
   "cell_type": "code",
   "execution_count": null,
   "metadata": {},
   "outputs": [],
   "source": [
    "def checkTurnR(pos_x, pos_y, direc_x, direc_y):\n",
    "    \n",
    "    direc_x_test, direc_y_test = turnRight(direc_x, direc_y)\n",
    "    pos_x_test, pos_y_test = steps(1, pos_x, pos_y, direc_x_test, direc_y_test)\n",
    "\n",
    "    if checkMove(pos_x_test, pos_y_test):\n",
    "        return True\n",
    "    else: \n",
    "        return False\n"
   ]
  },
  {
   "cell_type": "code",
   "execution_count": null,
   "metadata": {},
   "outputs": [],
   "source": [
    "show_player(path,[pos_x,pos_y], direc=[direc_y, direc_x], show_direc=True) #Display current position\n",
    "\n",
    "checkTurnR(pos_x, pos_y, direc_x, direc_y)"
   ]
  },
  {
   "cell_type": "markdown",
   "metadata": {},
   "source": [
    "Now you do the same thing with checkTurnL and Jump"
   ]
  },
  {
   "cell_type": "code",
   "execution_count": null,
   "metadata": {},
   "outputs": [],
   "source": [
    "def checkTurnL(pos_x, pos_y, direc_x, direc_y):\n",
    "    direc_x_test, direc_y_test = ...\n",
    "    pos_x_test, pos_y_test = ... \n",
    "    \n",
    "    if ... :\n",
    "        return True\n",
    "    else \n",
    "        return False \n",
    "    \n",
    "    \n",
    "    "
   ]
  },
  {
   "cell_type": "code",
   "execution_count": null,
   "metadata": {},
   "outputs": [],
   "source": [
    "def checkJump(pos_x, pos_y, direc_x, direc_y):\n",
    "    pos_x_test, pos_y_test = ... \n",
    "    \n",
    "    if ... :\n",
    "        return True\n",
    "    else \n",
    "        return False "
   ]
  },
  {
   "cell_type": "markdown",
   "metadata": {},
   "source": [
    "EXTRA CHALLLENGE: As a table, write a function `move`, that has inputs pos_x, pos_y, direc_x, direc_y and then outputs pos_x_new, pos_y_new, direc_x_new, direc_y_new of the player after the best move. "
   ]
  },
  {
   "cell_type": "code",
   "execution_count": null,
   "metadata": {},
   "outputs": [],
   "source": [
    "def move(pos_x, pos_y, direc_x, direc_y):\n",
    "    \n",
    "    if checkSteps(1, pos_x,pos_y, direc_x, direc_y):\n",
    "        \n",
    "        pos_x_new, pos_y_new = steps(1, pos_x,pos_y, direc_x, direc_y)\n",
    "        return pos_x_new, pos_y_new, direc_x, direc_y\n",
    "    \n",
    "    elif checkTurnR (pos_x, pos_y, direc_x, direc_y):\n",
    "        ...\n",
    "        return pos_x, pos_y, direc_x_new, direc_y_new\n",
    "    \n",
    "    elif checkTurnL (pos_x, pos_y, direc_x, direc_y):\n",
    "        ...\n",
    "        return pos_x, pos_y, direc_x_new, direc_y_new\n",
    "    \n",
    "    else:\n",
    "        ... #(the player jumps forward)\n",
    "        return pos_x, pos_y, direc_x_new, direc_y_new\n",
    "    \n",
    "        \n",
    "        "
   ]
  },
  {
   "cell_type": "code",
   "execution_count": null,
   "metadata": {},
   "outputs": [],
   "source": []
  },
  {
   "cell_type": "code",
   "execution_count": null,
   "metadata": {},
   "outputs": [],
   "source": []
  }
 ],
 "metadata": {
  "anaconda-cloud": {},
  "colab": {
   "name": "Day-3.ipynb",
   "provenance": []
  },
  "kernelspec": {
   "display_name": "py37",
   "language": "python",
   "name": "py37"
  },
  "language_info": {
   "codemirror_mode": {
    "name": "ipython",
    "version": 3
   },
   "file_extension": ".py",
   "mimetype": "text/x-python",
   "name": "python",
   "nbconvert_exporter": "python",
   "pygments_lexer": "ipython3",
   "version": "3.7.10"
  }
 },
 "nbformat": 4,
 "nbformat_minor": 1
}
